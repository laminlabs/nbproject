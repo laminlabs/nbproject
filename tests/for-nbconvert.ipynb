{
 "cells": [
  {
   "cell_type": "code",
   "execution_count": null,
   "metadata": {},
   "outputs": [],
   "source": [
    "from nbproject.dev._jupyter_communicate import notebook_path\n",
    "\n",
    "assert notebook_path() is not None, \"Cannot infer notebook path.\""
   ]
  }
 ],
 "metadata": {
  "language_info": {
   "name": "python"
  }
 },
 "nbformat": 4,
 "nbformat_minor": 2
}
