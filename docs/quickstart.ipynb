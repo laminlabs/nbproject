{
 "cells": [
  {
   "cell_type": "markdown",
   "metadata": {},
   "source": [
    "# Quickstart"
   ]
  },
  {
   "cell_type": "markdown",
   "metadata": {},
   "source": [
    "![](https://lamin-site-assets.s3.amazonaws.com/NHq29ckKVrrTYsNdG0KjT-1.gif)"
   ]
  },
  {
   "cell_type": "markdown",
   "metadata": {},
   "source": [
    "1. {func}`~nbproject.header` provides relevant context.\n",
    "2. {func}`~nbproject.publish` prepares a notebook for sharing it with someone else."
   ]
  },
  {
   "cell_type": "code",
   "execution_count": null,
   "metadata": {},
   "outputs": [],
   "source": [
    "from nbproject import header, publish, meta\n",
    "\n",
    "header(parent=[\"z14KWQKD4bwE\", \"jhvyoIrxoeSz\"])  # Initializes & displays metadata."
   ]
  },
  {
   "cell_type": "markdown",
   "metadata": {},
   "source": [
    "```{note}\n",
    "\n",
    "- Passing `parent` to `header()` is optional. You can use it to point viewers to upstream notebooks or to build pipelines.\n",
    "- You can also pass `pypackage` to `header()` to track secondary dependencies.\n",
    "\n",
    "```"
   ]
  },
  {
   "cell_type": "code",
   "execution_count": null,
   "metadata": {},
   "outputs": [],
   "source": [
    "import pandas  # Any imported package is automatically tracked."
   ]
  },
  {
   "cell_type": "markdown",
   "metadata": {},
   "source": [
    "Once you're happy with the present version of your notebook:"
   ]
  },
  {
   "cell_type": "code",
   "execution_count": null,
   "metadata": {},
   "outputs": [],
   "source": [
    "publish()  # Sets version, checks consecutiveness & title, writes current pypackages with versions."
   ]
  },
  {
   "cell_type": "markdown",
   "metadata": {},
   "source": [
    "```{note}\n",
    "\n",
    "If you're a developer and want to build on top of nbproject, the API offers:\n",
    "\n",
    "- {class}`~nbproject.meta` to access metadata: {doc}`guide/meta`.\n",
    "- {mod}`~nbproject.dev` for development utils.\n",
    "```"
   ]
  }
 ],
 "metadata": {
  "kernelspec": {
   "display_name": "Python 3 (ipykernel)",
   "language": "python",
   "name": "python3"
  },
  "language_info": {
   "codemirror_mode": {
    "name": "ipython",
    "version": 3
   },
   "file_extension": ".py",
   "mimetype": "text/x-python",
   "name": "python",
   "nbconvert_exporter": "python",
   "pygments_lexer": "ipython3",
   "version": "3.9.12"
  },
  "nbproject": {
   "id": "3m2Q6UBuwgSH",
   "parent": [
    "z14KWQKD4bwE",
    "jhvyoIrxoeSz"
   ],
   "time_init": "2022-07-18T12:32:21.625107+00:00",
   "version": "draft"
  },
  "vscode": {
   "interpreter": {
    "hash": "2775e555cdc2d728c54aa22130c79afb1fa4da64f22f2fc6dcc2aa346c4e0672"
   }
  }
 },
 "nbformat": 4,
 "nbformat_minor": 4
}
