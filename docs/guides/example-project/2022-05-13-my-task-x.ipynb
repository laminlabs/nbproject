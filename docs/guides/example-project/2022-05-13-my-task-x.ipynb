{
 "cells": [
  {
   "cell_type": "markdown",
   "id": "1d7b3b73-75f9-468d-8783-873ebadcab9b",
   "metadata": {},
   "source": [
    "# My task X"
   ]
  },
  {
   "cell_type": "code",
   "execution_count": null,
   "id": "97ec6631-8473-4a2d-b488-def921bb83de",
   "metadata": {},
   "outputs": [],
   "source": [
    "from nbproject import header"
   ]
  },
  {
   "cell_type": "code",
   "execution_count": null,
   "id": "cfbbaf21-ec90-4be4-b25f-8a3d51ef535d",
   "metadata": {},
   "outputs": [],
   "source": [
    "import pandas as pd\n",
    "import pydantic"
   ]
  },
  {
   "cell_type": "code",
   "execution_count": null,
   "id": "b430b7f1-d688-4c67-bf3d-f2c851eee64e",
   "metadata": {},
   "outputs": [],
   "source": [
    "df = pd.DataFrame({\"a\": [1, 2, 3], \"b\": [2, 3, 4]})"
   ]
  },
  {
   "cell_type": "code",
   "execution_count": null,
   "id": "32fc6616-9263-4817-b4ad-70a6c272f720",
   "metadata": {},
   "outputs": [],
   "source": [
    "df"
   ]
  },
  {
   "cell_type": "code",
   "execution_count": null,
   "id": "0ae9a2f6-366e-40cb-a37f-f5172401aa3d",
   "metadata": {},
   "outputs": [],
   "source": [
    "df.mean()"
   ]
  }
 ],
 "metadata": {
  "kernelspec": {
   "display_name": "Python 3 (ipykernel)",
   "language": "python",
   "name": "python3"
  },
  "language_info": {
   "codemirror_mode": {
    "name": "ipython",
    "version": 3
   },
   "file_extension": ".py",
   "mimetype": "text/x-python",
   "name": "python",
   "nbconvert_exporter": "python",
   "pygments_lexer": "ipython3",
   "version": "3.9.7"
  },
  "nbproject": {
   "dependencies": {
    "nbproject": "0.0.5+3.g8b2e3e2",
    "pandas": "1.4.2",
    "pydantic": "1.9.0"
   },
   "time_init": "2022-05-14T19:15:33.451107+00:00",
   "uid": "TGSzoypjSKoj"
  }
 },
 "nbformat": 4,
 "nbformat_minor": 5
}
