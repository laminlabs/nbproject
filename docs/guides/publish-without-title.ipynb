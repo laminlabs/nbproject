{
 "cells": [
  {
   "cell_type": "markdown",
   "id": "37b372a5-fae0-4177-986f-0adeea86158f",
   "metadata": {},
   "source": [
    "This notebooks shows how a warning and an error is raised when there is no title in the first cell."
   ]
  },
  {
   "cell_type": "markdown",
   "id": "411d20ca-f637-4d3f-9047-1b5782b1d7ea",
   "metadata": {},
   "source": [
    "# Publish without title"
   ]
  },
  {
   "cell_type": "code",
   "execution_count": null,
   "id": "d55181fa-9114-473b-a38d-27349d267f90",
   "metadata": {},
   "outputs": [],
   "source": [
    "from nbproject import header, meta, publish\n",
    "import pytest\n",
    "\n",
    "header()"
   ]
  },
  {
   "cell_type": "code",
   "execution_count": null,
   "id": "e5d5dd20",
   "metadata": {},
   "outputs": [],
   "source": [
    "meta.live.title  # returns None"
   ]
  },
  {
   "cell_type": "code",
   "execution_count": null,
   "id": "a9665051-9d08-4f52-aa8e-7ffe1e5514e9",
   "metadata": {},
   "outputs": [],
   "source": [
    "publish() == \"no-title\""
   ]
  }
 ],
 "metadata": {
  "kernelspec": {
   "display_name": "Python 3.9.12 ('base1')",
   "language": "python",
   "name": "python3"
  },
  "language_info": {
   "codemirror_mode": {
    "name": "ipython",
    "version": 3
   },
   "file_extension": ".py",
   "mimetype": "text/x-python",
   "name": "python",
   "nbconvert_exporter": "python",
   "pygments_lexer": "ipython3",
   "version": "3.9.12"
  },
  "nbproject": {
   "id": "aK1IQUYIQsMs",
   "pypackage": {
    "nbproject": "0.0.7+2.g8521e30"
   },
   "time_init": "2022-06-08T14:42:31.551211+00:00",
   "version": "draft"
  },
  "vscode": {
   "interpreter": {
    "hash": "2775e555cdc2d728c54aa22130c79afb1fa4da64f22f2fc6dcc2aa346c4e0672"
   }
  }
 },
 "nbformat": 4,
 "nbformat_minor": 5
}
