{
 "cells": [
  {
   "cell_type": "markdown",
   "id": "37b372a5-fae0-4177-986f-0adeea86158f",
   "metadata": {},
   "source": [
    "This notebooks shows how a warning and an error is raised when there is no title in the first cell."
   ]
  },
  {
   "cell_type": "markdown",
   "id": "411d20ca-f637-4d3f-9047-1b5782b1d7ea",
   "metadata": {},
   "source": [
    "# Try to publish without title"
   ]
  },
  {
   "cell_type": "code",
   "execution_count": null,
   "id": "d55181fa-9114-473b-a38d-27349d267f90",
   "metadata": {},
   "outputs": [],
   "source": [
    "from nbproject import header, meta, publish\n",
    "import pytest\n",
    "\n",
    "header()"
   ]
  },
  {
   "cell_type": "code",
   "execution_count": null,
   "id": "e5d5dd20",
   "metadata": {},
   "outputs": [],
   "source": [
    "meta.live.title  # returns None"
   ]
  },
  {
   "cell_type": "code",
   "execution_count": null,
   "id": "a9665051-9d08-4f52-aa8e-7ffe1e5514e9",
   "metadata": {},
   "outputs": [],
   "source": [
    "# This would print: Error: No title! Please update & save your notebook so that it has a markdown cell with the title: # My title\n",
    "with pytest.raises(RuntimeError):\n",
    "    publish(i_confirm_i_saved=True, integrity=False)"
   ]
  }
 ],
 "metadata": {
  "kernelspec": {
   "display_name": "Python 3 (ipykernel)",
   "language": "python",
   "name": "python3"
  },
  "language_info": {
   "codemirror_mode": {
    "name": "ipython",
    "version": 3
   },
   "file_extension": ".py",
   "mimetype": "text/x-python",
   "name": "python",
   "nbconvert_exporter": "python",
   "pygments_lexer": "ipython3",
   "version": "3.9.12"
  },
  "nbproject": {
   "dependency": {
    "nbproject": "0.0.7+2.g8521e30"
   },
   "id": "aK1IQUYIQsMs",
   "time_init": "2022-06-08T14:42:31.551211+00:00",
   "version": "draft"
  }
 },
 "nbformat": 4,
 "nbformat_minor": 5
}
