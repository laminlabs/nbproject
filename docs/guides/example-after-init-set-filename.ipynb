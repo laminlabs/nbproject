{
 "cells": [
  {
   "cell_type": "markdown",
   "id": "cc6c2fe6-6291-4a91-b326-b1ec6cb8d703",
   "metadata": {
    "tags": []
   },
   "source": [
    "# Interactive view of an initialized notebook with a specified filename"
   ]
  },
  {
   "cell_type": "markdown",
   "id": "752e0baa-5e48-46c0-958d-f48796ff3b2f",
   "metadata": {},
   "source": [
    "Here we see how `nbproject` prints a metadata header for a notebook that has been initialized."
   ]
  },
  {
   "cell_type": "markdown",
   "id": "b113b603-5d6d-4096-90e5-bca19d64a5ce",
   "metadata": {},
   "source": [
    "```{note}\n",
    "\n",
    "* The 12-digit universal ID makes your notebook essentially unique. In practical settings, building intuition for the first 4 digits is good enough.\n",
    "* Time is displayed in UTC so that collaboration across time zones is seemless!\n",
    "\n",
    "```"
   ]
  },
  {
   "cell_type": "code",
   "execution_count": null,
   "id": "705ac1d5-cbd9-421f-841e-d91e15faa962",
   "metadata": {},
   "outputs": [],
   "source": [
    "from nbproject import Header\n",
    "\n",
    "Header(\"example-after-init-set-filename.ipynb\")"
   ]
  },
  {
   "cell_type": "markdown",
   "id": "6e5c4f1f-a432-4882-bd1c-8fb1c5448db9",
   "metadata": {},
   "source": [
    "If we want to not just display it to provide humans with context, we can also access the metadata through the API:"
   ]
  },
  {
   "cell_type": "code",
   "execution_count": null,
   "id": "861ede19-560c-4d7f-9b64-10728eef4ef6",
   "metadata": {},
   "outputs": [],
   "source": [
    "from nbproject import meta"
   ]
  },
  {
   "cell_type": "code",
   "execution_count": null,
   "id": "a1c4d3b7-6ca0-4045-8d62-52a91969d05b",
   "metadata": {},
   "outputs": [],
   "source": [
    "meta.store.id"
   ]
  },
  {
   "cell_type": "code",
   "execution_count": null,
   "id": "170ff0fd-730e-4b6b-b932-d396fa2d82d2",
   "metadata": {
    "tags": [
     "hide-cell"
    ]
   },
   "outputs": [],
   "source": [
    "assert meta.store.id == \"KLqggebgs7Tq\"\n",
    "assert hasattr(meta.store, \"time_init\")"
   ]
  },
  {
   "cell_type": "code",
   "execution_count": null,
   "id": "d0661a79-ff8a-4d1c-a2f9-ee4ed361c466",
   "metadata": {},
   "outputs": [],
   "source": [
    "meta.live.title"
   ]
  }
 ],
 "metadata": {
  "interpreter": {
   "hash": "40d3a090f54c6569ab1632332b64b2c03c39dcf918b08424e98f38b5ae0af88f"
  },
  "kernelspec": {
   "display_name": "Python 3 (ipykernel)",
   "language": "python",
   "name": "python3"
  },
  "language_info": {
   "codemirror_mode": {
    "name": "ipython",
    "version": 3
   },
   "file_extension": ".py",
   "mimetype": "text/x-python",
   "name": "python",
   "nbconvert_exporter": "python",
   "pygments_lexer": "ipython3",
   "version": "3.8.13"
  },
  "nbproject": {
   "id": "KLqggebgs7Tq",
   "time_init": "2022-04-18T22:07:44.214819+00:00"
  }
 },
 "nbformat": 4,
 "nbformat_minor": 5
}
