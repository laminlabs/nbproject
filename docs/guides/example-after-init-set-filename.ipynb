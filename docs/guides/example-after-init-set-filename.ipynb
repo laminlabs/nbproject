{
 "cells": [
  {
   "cell_type": "markdown",
   "id": "cc6c2fe6-6291-4a91-b326-b1ec6cb8d703",
   "metadata": {
    "tags": []
   },
   "source": [
    "# Manually specify a filepath upon init"
   ]
  },
  {
   "cell_type": "markdown",
   "id": "752e0baa-5e48-46c0-958d-f48796ff3b2f",
   "metadata": {},
   "source": [
    "Here we see how `nbproject` prints a metadata header for a notebook that has been initialized."
   ]
  },
  {
   "cell_type": "code",
   "execution_count": null,
   "id": "705ac1d5-cbd9-421f-841e-d91e15faa962",
   "metadata": {},
   "outputs": [],
   "source": [
    "from nbproject import header\n",
    "\n",
    "header(filepath=\"example-after-init-set-filename.ipynb\")"
   ]
  },
  {
   "cell_type": "code",
   "execution_count": null,
   "id": "861ede19-560c-4d7f-9b64-10728eef4ef6",
   "metadata": {},
   "outputs": [],
   "source": [
    "from nbproject import meta"
   ]
  },
  {
   "cell_type": "code",
   "execution_count": null,
   "id": "170ff0fd-730e-4b6b-b932-d396fa2d82d2",
   "metadata": {
    "tags": [
     "hide-cell"
    ]
   },
   "outputs": [],
   "source": [
    "assert meta.store.id == \"KLqggebgs7Tq\"\n",
    "assert hasattr(meta.store, \"time_init\")"
   ]
  }
 ],
 "metadata": {
  "interpreter": {
   "hash": "40d3a090f54c6569ab1632332b64b2c03c39dcf918b08424e98f38b5ae0af88f"
  },
  "kernelspec": {
   "display_name": "Python 3 (ipykernel)",
   "language": "python",
   "name": "python3"
  },
  "language_info": {
   "codemirror_mode": {
    "name": "ipython",
    "version": 3
   },
   "file_extension": ".py",
   "mimetype": "text/x-python",
   "name": "python",
   "nbconvert_exporter": "python",
   "pygments_lexer": "ipython3",
   "version": "3.9.7"
  },
  "nbproject": {
   "id": "KLqggebgs7Tq",
   "time_init": "2022-04-18T22:07:44.214819+00:00",
   "version": "draft"
  }
 },
 "nbformat": 4,
 "nbformat_minor": 5
}
