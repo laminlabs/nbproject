{
 "cells": [
  {
   "cell_type": "markdown",
   "metadata": {},
   "source": [
    "# Initialize nbproject for your notebook"
   ]
  },
  {
   "cell_type": "markdown",
   "metadata": {},
   "source": [
    "To initialize nbproject, call {func}`nbproject.header`. For example, by adding `from nbproject import header; header()` to the first code cell:"
   ]
  },
  {
   "cell_type": "markdown",
   "metadata": {},
   "source": [
    "Jupyter Lab | VS Code | Classic Notebook\n",
    "--- | --- | ---\n",
    "<img width=\"968\" alt=\"image\" src=\"https://user-images.githubusercontent.com/16916678/178651616-dd6904ba-84ee-4d51-a326-c872b8efda9b.png\"> | <img width=\"1088\" alt=\"image\" src=\"https://user-images.githubusercontent.com/16916678/178651501-f0e1d183-9f9a-4ef7-9002-355c7c9c0f5a.png\"> | <img width=\"1165\" alt=\"image\" src=\"https://user-images.githubusercontent.com/16916678/178651117-fc687184-b669-4e06-8965-fe3b35b11218.png\">"
   ]
  },
  {
   "cell_type": "markdown",
   "metadata": {},
   "source": [
    "```{important}\n",
    "\n",
    "- You'll have the best interactive experience in **Jupyter Lab**, which will re-load restart the notebook after you confirm the dialogue.\n",
    "- In other editors, you'll need to manually hit save and reload the changed `.ipynb` file from disk (discard the editor content).\n",
    "\n",
    "We recommend you use Jupyter Lab for a seamless interactive experience.\n",
    "\n",
    "```\n",
    "\n",
    "```{hint}\n",
    "\n",
    "If you instead want to bulk-initialize a whole folder with notebooks, use the CLI: {doc}`cli`.\n",
    "\n",
    "```"
   ]
  }
 ],
 "metadata": {
  "interpreter": {
   "hash": "40d3a090f54c6569ab1632332b64b2c03c39dcf918b08424e98f38b5ae0af88f"
  },
  "kernelspec": {
   "display_name": "Python 3 (ipykernel)",
   "language": "python",
   "name": "python3"
  },
  "language_info": {
   "codemirror_mode": {
    "name": "ipython",
    "version": 3
   },
   "file_extension": ".py",
   "mimetype": "text/x-python",
   "name": "python",
   "nbconvert_exporter": "python",
   "pygments_lexer": "ipython3",
   "version": "3.9.7"
  }
 },
 "nbformat": 4,
 "nbformat_minor": 4
}
