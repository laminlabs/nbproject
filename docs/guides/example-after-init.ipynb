{
 "cells": [
  {
   "cell_type": "markdown",
   "id": "cc6c2fe6-6291-4a91-b326-b1ec6cb8d703",
   "metadata": {
    "tags": []
   },
   "source": [
    "# Interactive view of an initialized notebook"
   ]
  },
  {
   "cell_type": "markdown",
   "id": "752e0baa-5e48-46c0-958d-f48796ff3b2f",
   "metadata": {},
   "source": [
    "Here we see how `nbproject` prints a metadata header for a notebook that has been initialized."
   ]
  },
  {
   "cell_type": "markdown",
   "id": "b113b603-5d6d-4096-90e5-bca19d64a5ce",
   "metadata": {},
   "source": [
    "```{note}\n",
    "\n",
    "* The 12-digit universal ID makes your notebook essentially unique. In practical settings, building intuition for the first 4 digits is good enough.\n",
    "* Time is displayed in UTC so that collaboration across time zones is seemless!\n",
    "\n",
    "```"
   ]
  },
  {
   "cell_type": "code",
   "execution_count": null,
   "id": "705ac1d5-cbd9-421f-841e-d91e15faa962",
   "metadata": {},
   "outputs": [],
   "source": [
    "from nbproject import header"
   ]
  }
 ],
 "metadata": {
  "interpreter": {
   "hash": "40d3a090f54c6569ab1632332b64b2c03c39dcf918b08424e98f38b5ae0af88f"
  },
  "kernelspec": {
   "display_name": "Python 3 (ipykernel)",
   "language": "python",
   "name": "python3"
  },
  "language_info": {
   "codemirror_mode": {
    "name": "ipython",
    "version": 3
   },
   "file_extension": ".py",
   "mimetype": "text/x-python",
   "name": "python",
   "nbconvert_exporter": "python",
   "pygments_lexer": "ipython3",
   "version": "3.9.7"
  },
  "nbproject": {
   "time_init": "2022-04-18T22:07:44.214819+00:00",
   "uid": "k6pYlNGefxZK"
  }
 },
 "nbformat": 4,
 "nbformat_minor": 5
}
