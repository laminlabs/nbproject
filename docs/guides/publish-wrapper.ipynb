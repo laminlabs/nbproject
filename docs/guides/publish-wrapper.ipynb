{
 "cells": [
  {
   "cell_type": "markdown",
   "id": "1412ea59-223c-41a9-a0f9-81f34240f794",
   "metadata": {},
   "source": [
    "# Write a wrapper for `publish()`"
   ]
  },
  {
   "cell_type": "code",
   "execution_count": null,
   "id": "f2916b1c-6904-415c-a86d-1360af969119",
   "metadata": {},
   "outputs": [],
   "source": [
    "from nbproject import header, publish\n",
    "\n",
    "header()"
   ]
  },
  {
   "cell_type": "code",
   "execution_count": null,
   "id": "5521ec86-e9e0-464f-a167-78ddf74e6efb",
   "metadata": {},
   "outputs": [],
   "source": [
    "def my_publish(**kwargs):\n",
    "    return publish(calling_statement=\"my_publish(\", **kwargs)"
   ]
  },
  {
   "cell_type": "code",
   "execution_count": null,
   "id": "58869e8c-31b5-4b07-af74-22d833bdd016",
   "metadata": {},
   "outputs": [],
   "source": [
    "my_publish(i_confirm_i_saved=True, consecutiveness=False)"
   ]
  }
 ],
 "metadata": {
  "kernelspec": {
   "display_name": "Python 3.9.12 ('base1')",
   "language": "python",
   "name": "python3"
  },
  "language_info": {
   "codemirror_mode": {
    "name": "ipython",
    "version": 3
   },
   "file_extension": ".py",
   "mimetype": "text/x-python",
   "name": "python",
   "nbconvert_exporter": "python",
   "pygments_lexer": "ipython3",
   "version": "3.9.12"
  },
  "nbproject": {
   "dependency": {
    "nbproject": "0.1.6"
   },
   "id": "z1EEDTe3gt3R",
   "time_init": "2022-07-12T14:56:54.643320+00:00",
   "version": "draft"
  },
  "vscode": {
   "interpreter": {
    "hash": "2775e555cdc2d728c54aa22130c79afb1fa4da64f22f2fc6dcc2aa346c4e0672"
   }
  }
 },
 "nbformat": 4,
 "nbformat_minor": 5
}
