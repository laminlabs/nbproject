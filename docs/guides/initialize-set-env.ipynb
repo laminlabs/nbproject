{
 "cells": [
  {
   "cell_type": "markdown",
   "id": "a96f0c2b",
   "metadata": {},
   "source": [
    "# Set env, initialize and publish"
   ]
  },
  {
   "cell_type": "code",
   "execution_count": null,
   "id": "33cd72dc",
   "metadata": {},
   "outputs": [],
   "source": [
    "from nbproject import header, meta, publish"
   ]
  },
  {
   "cell_type": "code",
   "execution_count": null,
   "id": "546adf14",
   "metadata": {},
   "outputs": [],
   "source": [
    "header(env=\"notebook\")"
   ]
  },
  {
   "cell_type": "code",
   "execution_count": null,
   "id": "5d6996c5",
   "metadata": {},
   "outputs": [],
   "source": [
    "assert meta.env == \"notebook\""
   ]
  },
  {
   "cell_type": "code",
   "execution_count": null,
   "id": "3585eab4",
   "metadata": {},
   "outputs": [],
   "source": [
    "publish(proceed_consecutiveness=\"y\")"
   ]
  }
 ],
 "metadata": {
  "kernelspec": {
   "display_name": "Python 3 (ipykernel)",
   "language": "python",
   "name": "python3"
  },
  "language_info": {
   "codemirror_mode": {
    "name": "ipython",
    "version": 3
   },
   "file_extension": ".py",
   "mimetype": "text/x-python",
   "name": "python",
   "nbconvert_exporter": "python",
   "pygments_lexer": "ipython3",
   "version": "3.9.12"
  }
 },
 "nbformat": 4,
 "nbformat_minor": 5
}
