{
 "cells": [
  {
   "cell_type": "markdown",
   "id": "07b4416e",
   "metadata": {},
   "source": [
    "# Check internal functions"
   ]
  },
  {
   "cell_type": "code",
   "execution_count": null,
   "id": "dec58684",
   "metadata": {},
   "outputs": [],
   "source": [
    "from nbproject import header"
   ]
  },
  {
   "cell_type": "code",
   "execution_count": null,
   "id": "33d06aa6",
   "metadata": {},
   "outputs": [],
   "source": [
    "header()"
   ]
  },
  {
   "cell_type": "markdown",
   "id": "fd29b2f1",
   "metadata": {},
   "source": [
    "Utilities to communicate with jupyter frontend."
   ]
  },
  {
   "cell_type": "code",
   "execution_count": null,
   "id": "d2c597ec",
   "metadata": {},
   "outputs": [],
   "source": [
    "from nbproject.dev._frontend_commands import _save_notebook, _reload_notebook"
   ]
  },
  {
   "cell_type": "code",
   "execution_count": null,
   "id": "c69d273f",
   "metadata": {},
   "outputs": [],
   "source": [
    "from nbproject.dev._jupyter_lab_commands import _lab_notebook_path"
   ]
  },
  {
   "cell_type": "markdown",
   "id": "3f822cb7",
   "metadata": {},
   "source": [
    "Here nothing should happen in the test environment."
   ]
  },
  {
   "cell_type": "code",
   "execution_count": null,
   "id": "46d7daac",
   "metadata": {},
   "outputs": [],
   "source": [
    "_save_notebook(env=\"lab\")\n",
    "_save_notebook(env=\"notebook\")"
   ]
  },
  {
   "cell_type": "code",
   "execution_count": null,
   "id": "0673cc01",
   "metadata": {},
   "outputs": [],
   "source": [
    "_reload_notebook(env=\"lab\")\n",
    "_reload_notebook(env=\"notebook\")"
   ]
  },
  {
   "cell_type": "markdown",
   "id": "d6578ad9",
   "metadata": {},
   "source": [
    "Can't get the path through ipylab, because we are not in juypter lab."
   ]
  },
  {
   "cell_type": "code",
   "execution_count": null,
   "id": "a4c9453d",
   "metadata": {},
   "outputs": [],
   "source": [
    "assert _lab_notebook_path() is None"
   ]
  },
  {
   "cell_type": "markdown",
   "id": "28bc688c",
   "metadata": {},
   "source": [
    "Utilities to communicate with jupyter backend."
   ]
  },
  {
   "cell_type": "code",
   "execution_count": null,
   "id": "1830c1ed",
   "metadata": {},
   "outputs": [],
   "source": [
    "from nbproject.dev._jupyter_communicate import (\n",
    "    notebook_path,\n",
    "    prepare_url,\n",
    "    query_server,\n",
    "    running_servers,\n",
    ")"
   ]
  },
  {
   "cell_type": "code",
   "execution_count": null,
   "id": "778b1e93",
   "metadata": {},
   "outputs": [],
   "source": [
    "servers_nbapp, servers_juserv = running_servers()\n",
    "\n",
    "assert list(servers_nbapp) == []\n",
    "assert list(servers_juserv) == []"
   ]
  },
  {
   "cell_type": "code",
   "execution_count": null,
   "id": "2f094485",
   "metadata": {},
   "outputs": [],
   "source": [
    "server = dict(token=\"test\", url=\"localhost/\")"
   ]
  },
  {
   "cell_type": "code",
   "execution_count": null,
   "id": "310c4e79",
   "metadata": {},
   "outputs": [],
   "source": [
    "assert (\n",
    "    prepare_url(server, \"/test_query\")\n",
    "    == \"localhost/api/sessions/test_query?token=test\"  # noqa\n",
    ")"
   ]
  },
  {
   "cell_type": "code",
   "execution_count": null,
   "id": "5b7ba29c",
   "metadata": {},
   "outputs": [],
   "source": [
    "from pytest import raises\n",
    "\n",
    "with raises(Exception):\n",
    "    query_server(server)"
   ]
  }
 ],
 "metadata": {
  "kernelspec": {
   "display_name": "Python 3 (ipykernel)",
   "language": "python",
   "name": "python3"
  },
  "language_info": {
   "codemirror_mode": {
    "name": "ipython",
    "version": 3
   },
   "file_extension": ".py",
   "mimetype": "text/x-python",
   "name": "python",
   "nbconvert_exporter": "python",
   "pygments_lexer": "ipython3",
   "version": "3.9.12"
  },
  "nbproject": {
   "id": "IyjiKeXJhQhA",
   "parent": null,
   "pypackage": null,
   "time_init": "2022-08-25T18:37:39.657360+00:00",
   "version": "draft"
  }
 },
 "nbformat": 4,
 "nbformat_minor": 5
}
