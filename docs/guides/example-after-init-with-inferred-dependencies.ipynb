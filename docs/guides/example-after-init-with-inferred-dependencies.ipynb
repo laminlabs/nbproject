{
 "cells": [
  {
   "cell_type": "markdown",
   "id": "e39f24eb-802a-4fa5-b9e1-141cf1ebab72",
   "metadata": {},
   "source": [
    "# Example after init with inferred dependencies"
   ]
  },
  {
   "cell_type": "markdown",
   "id": "77cea1ab-52d8-496c-9874-2b0fc5a3fdcc",
   "metadata": {},
   "source": [
    "Here, we had already drafted a notebook **without** a line `from nbproject import header`.\n",
    "\n",
    "Once we add the line `from nbproject import header`, two things happen:\n",
    "\n",
    "- nbproject is initialized\n",
    "- dependencies are inferred and written to the metadata store"
   ]
  },
  {
   "cell_type": "code",
   "execution_count": null,
   "id": "4bdcc2dd-3bf4-43e3-9305-10722283b415",
   "metadata": {},
   "outputs": [],
   "source": [
    "from nbproject import header"
   ]
  },
  {
   "cell_type": "code",
   "execution_count": null,
   "id": "5612a45d-6250-40ce-a4ae-d2b24db515ed",
   "metadata": {},
   "outputs": [],
   "source": [
    "import pandas as pd\n",
    "import pydantic"
   ]
  },
  {
   "cell_type": "code",
   "execution_count": null,
   "id": "8c76e678-4226-41de-9bc5-28a75a0cf7cb",
   "metadata": {},
   "outputs": [],
   "source": [
    "df = pd.DataFrame({\"a\": [1, 2, 3], \"b\": [2, 3, 4]})"
   ]
  },
  {
   "cell_type": "code",
   "execution_count": null,
   "id": "80bc64bb-e7bf-41b7-a2fa-9ccdbf11fa91",
   "metadata": {},
   "outputs": [],
   "source": [
    "df"
   ]
  },
  {
   "cell_type": "code",
   "execution_count": null,
   "id": "e0b4e7ff-21d6-492b-95be-e9661523c827",
   "metadata": {},
   "outputs": [],
   "source": [
    "df.mean()"
   ]
  }
 ],
 "metadata": {
  "kernelspec": {
   "display_name": "Python 3 (ipykernel)",
   "language": "python",
   "name": "python3"
  },
  "language_info": {
   "codemirror_mode": {
    "name": "ipython",
    "version": 3
   },
   "file_extension": ".py",
   "mimetype": "text/x-python",
   "name": "python",
   "nbconvert_exporter": "python",
   "pygments_lexer": "ipython3",
   "version": "3.9.12"
  }
 },
 "nbformat": 4,
 "nbformat_minor": 5
}
