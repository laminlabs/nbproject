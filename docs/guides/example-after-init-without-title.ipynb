{
 "cells": [
  {
   "cell_type": "markdown",
   "id": "37b372a5-fae0-4177-986f-0adeea86158f",
   "metadata": {},
   "source": [
    "This notebooks demonstrates how a warning is raised when there is title in the first cell."
   ]
  },
  {
   "cell_type": "markdown",
   "id": "411d20ca-f637-4d3f-9047-1b5782b1d7ea",
   "metadata": {},
   "source": [
    "# Example after init without title"
   ]
  },
  {
   "cell_type": "code",
   "execution_count": null,
   "id": "d55181fa-9114-473b-a38d-27349d267f90",
   "metadata": {},
   "outputs": [],
   "source": [
    "from nbproject import header"
   ]
  },
  {
   "cell_type": "code",
   "execution_count": null,
   "id": "9ccdf8ac-eb24-40e5-9796-f3f5eadd1c51",
   "metadata": {},
   "outputs": [],
   "source": [
    "import nbproject"
   ]
  },
  {
   "cell_type": "code",
   "execution_count": null,
   "id": "ce9c305f-a65f-4e71-86e7-eab4572dc8e1",
   "metadata": {},
   "outputs": [],
   "source": [
    "from nbproject import meta"
   ]
  },
  {
   "cell_type": "code",
   "execution_count": null,
   "id": "c6a33378-5735-4228-b60e-d2f1a1e89180",
   "metadata": {},
   "outputs": [],
   "source": [
    "meta"
   ]
  },
  {
   "cell_type": "code",
   "execution_count": null,
   "id": "3731116f-22a4-41ee-8535-e07bd3b1e96f",
   "metadata": {},
   "outputs": [],
   "source": [
    "nbproject.meta"
   ]
  },
  {
   "cell_type": "code",
   "execution_count": null,
   "id": "e5d5dd20",
   "metadata": {},
   "outputs": [],
   "source": [
    "meta.live.title"
   ]
  }
 ],
 "metadata": {
  "kernelspec": {
   "display_name": "Python 3 (ipykernel)",
   "language": "python",
   "name": "python3"
  },
  "language_info": {
   "codemirror_mode": {
    "name": "ipython",
    "version": 3
   },
   "file_extension": ".py",
   "mimetype": "text/x-python",
   "name": "python",
   "nbconvert_exporter": "python",
   "pygments_lexer": "ipython3",
   "version": "3.8.13"
  },
  "nbproject": {
   "dependency": {
    "nbproject": "0.0.7+2.g8521e30"
   },
   "id": "aK1IQUYIQsMs",
   "time_init": "2022-06-08T14:42:31.551211+00:00"
  }
 },
 "nbformat": 4,
 "nbformat_minor": 5
}
