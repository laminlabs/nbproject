{
 "cells": [
  {
   "cell_type": "code",
   "execution_count": null,
   "id": "d55181fa-9114-473b-a38d-27349d267f90",
   "metadata": {},
   "outputs": [],
   "source": [
    "from nbproject import header"
   ]
  },
  {
   "cell_type": "code",
   "execution_count": null,
   "id": "9ccdf8ac-eb24-40e5-9796-f3f5eadd1c51",
   "metadata": {},
   "outputs": [],
   "source": [
    "import nbproject"
   ]
  },
  {
   "cell_type": "code",
   "execution_count": null,
   "id": "8a3b900e-d3f3-4d3b-9cab-2dd34e5cf65c",
   "metadata": {},
   "outputs": [],
   "source": [
    "# nbproject.meta"
   ]
  },
  {
   "cell_type": "markdown",
   "id": "953f24af-13cb-48d7-82eb-0c3427218ec4",
   "metadata": {},
   "source": [
    "There is this strange behavior that __getattr__ on the module gets called twice in the following line:"
   ]
  },
  {
   "cell_type": "code",
   "execution_count": null,
   "id": "ce9c305f-a65f-4e71-86e7-eab4572dc8e1",
   "metadata": {},
   "outputs": [],
   "source": [
    "from nbproject import meta"
   ]
  },
  {
   "cell_type": "code",
   "execution_count": null,
   "id": "c6a33378-5735-4228-b60e-d2f1a1e89180",
   "metadata": {},
   "outputs": [],
   "source": [
    "meta"
   ]
  },
  {
   "cell_type": "code",
   "execution_count": null,
   "id": "3731116f-22a4-41ee-8535-e07bd3b1e96f",
   "metadata": {},
   "outputs": [],
   "source": [
    "nbproject.meta"
   ]
  }
 ],
 "metadata": {
  "kernelspec": {
   "display_name": "Python 3 (ipykernel)",
   "language": "python",
   "name": "python3"
  },
  "language_info": {
   "codemirror_mode": {
    "name": "ipython",
    "version": 3
   },
   "file_extension": ".py",
   "mimetype": "text/x-python",
   "name": "python",
   "nbconvert_exporter": "python",
   "pygments_lexer": "ipython3",
   "version": "3.9.7"
  },
  "nbproject": {
   "dependency": {
    "nbproject": "0.0.7+2.g8521e30"
   },
   "id": "aK1IQUYIQsMs",
   "time_init": "2022-06-08T14:42:31.551211+00:00"
  }
 },
 "nbformat": 4,
 "nbformat_minor": 5
}
