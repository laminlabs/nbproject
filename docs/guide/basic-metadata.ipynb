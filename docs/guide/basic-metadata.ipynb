{
 "cells": [
  {
   "cell_type": "markdown",
   "id": "cc6c2fe6-6291-4a91-b326-b1ec6cb8d703",
   "metadata": {
    "tags": []
   },
   "source": [
    "# Basic metadata"
   ]
  },
  {
   "cell_type": "code",
   "execution_count": null,
   "id": "705ac1d5-cbd9-421f-841e-d91e15faa962",
   "metadata": {},
   "outputs": [],
   "source": [
    "from nbproject import header\n",
    "\n",
    "header()"
   ]
  },
  {
   "cell_type": "markdown",
   "id": "b113b603-5d6d-4096-90e5-bca19d64a5ce",
   "metadata": {
    "tags": []
   },
   "source": [
    "## `id`\n",
    "\n",
    "The full 12-character ID makes your notebook unique. It keeps the chance that someone else has a notebook with the same ID below 1/1M even if you compare with 100M other notebooks. This is because there are `>1e21` such 12-character IDs.\n",
    "\n",
    "In practical settings, remembering the first 4 digits is good enough. They keep the collision probability below 1/1k for comparisons with up to 200 notebooks.\n",
    "\n",
    "## `version`\n",
    "\n",
    "This is set to `\"0\"` upon initialization and either automatically set or set to any desired version upon `publish()`.\n",
    "\n",
    "## `time_init`\n",
    "\n",
    "This is the time stamp generated upon initialization of nbproject. If you use nbproject on every new notebook, it coincides with the time of notebook creation.\n",
    "\n",
    "The time is displayed in UTC instead of a time-zone dependent local time.\n",
    "\n",
    "## `time_run`\n",
    "\n",
    "This is the time at which you're running the current notebook.\n",
    "\n",
    "## `pypackage`\n",
    "\n",
    "Automatically inferred imported packages and their versions. Can be supplemented with manually set packages.\n",
    "\n",
    "## `parent`\n",
    "\n",
    "Another pre-defined field in `nbproject` is called `parent`. You need to set it entirely manually right now, but you can use it to denote upstream dependencies of other notebooks you used in your workflow."
   ]
  }
 ],
 "metadata": {
  "kernelspec": {
   "display_name": "Python 3 (ipykernel)",
   "language": "python",
   "name": "python3"
  },
  "language_info": {
   "codemirror_mode": {
    "name": "ipython",
    "version": 3
   },
   "file_extension": ".py",
   "mimetype": "text/x-python",
   "name": "python",
   "nbconvert_exporter": "python",
   "pygments_lexer": "ipython3",
   "version": "3.9.12"
  },
  "nbproject": {
   "id": "z14KWQKD4bwE",
   "time_init": "2022-04-18T22:07:44.214819+00:00",
   "version": "0"
  },
  "vscode": {
   "interpreter": {
    "hash": "2775e555cdc2d728c54aa22130c79afb1fa4da64f22f2fc6dcc2aa346c4e0672"
   }
  }
 },
 "nbformat": 4,
 "nbformat_minor": 5
}
