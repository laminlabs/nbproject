{
 "cells": [
  {
   "cell_type": "markdown",
   "id": "4c5d9cf8",
   "metadata": {
    "tags": []
   },
   "source": [
    "# Update metadata"
   ]
  },
  {
   "cell_type": "markdown",
   "id": "c0aad033-1af5-436d-a8f7-7f5aedba41a8",
   "metadata": {},
   "source": [
    "You can add additional packages to be tracked right at initialization:"
   ]
  },
  {
   "cell_type": "code",
   "execution_count": null,
   "id": "0f734180-2bf1-4341-b068-7ab84764bf57",
   "metadata": {},
   "outputs": [],
   "source": [
    "from nbproject import header, meta\n",
    "import pandas\n",
    "\n",
    "header(\n",
    "    parent=[\n",
    "        \"z14KWQKD4bwE\",\n",
    "        \"jhvyoIrxoeSz\",\n",
    "    ],\n",
    "    pypackage=\"nbformat\",  # Indirect dependencies to be tracked. Direct dependencies are automatically tracked.\n",
    ")"
   ]
  },
  {
   "cell_type": "markdown",
   "id": "bd7d72a2-8fcd-4414-b957-d233664d0fe1",
   "metadata": {},
   "source": [
    "Use the following convenience function to update packages."
   ]
  },
  {
   "cell_type": "code",
   "execution_count": null,
   "id": "ff350260",
   "metadata": {
    "tags": []
   },
   "outputs": [],
   "source": [
    "meta.store.add_pypackages([\"numpy\", \"pytest\"]).write()"
   ]
  },
  {
   "cell_type": "markdown",
   "id": "cbea77ad-82a9-4b8f-9081-c9bf3ccda0c3",
   "metadata": {},
   "source": [
    "Update `parent` or any custom metadata field via: "
   ]
  },
  {
   "cell_type": "code",
   "execution_count": null,
   "id": "7b4166ad-907a-4153-9cb3-5f74a7d0e5d9",
   "metadata": {},
   "outputs": [],
   "source": [
    "meta.store.parent = [\n",
    "    \"z14KWQKD4bwE\",\n",
    "    \"jhvyoIrxoeSz\",\n",
    "    \"3m2Q6UBuwgSH\",\n",
    "]"
   ]
  },
  {
   "cell_type": "markdown",
   "id": "2eb0ac87-8338-4a4c-bab1-d84e3c6748be",
   "metadata": {},
   "source": [
    "Don't forget to write the changes from the store to the file!"
   ]
  },
  {
   "cell_type": "code",
   "execution_count": null,
   "id": "ea6238da",
   "metadata": {
    "tags": []
   },
   "outputs": [],
   "source": [
    "meta.store.write()"
   ]
  }
 ],
 "metadata": {
  "kernelspec": {
   "display_name": "Python 3 (ipykernel)",
   "language": "python",
   "name": "python3"
  },
  "language_info": {
   "codemirror_mode": {
    "name": "ipython",
    "version": 3
   },
   "file_extension": ".py",
   "mimetype": "text/x-python",
   "name": "python",
   "nbconvert_exporter": "python",
   "pygments_lexer": "ipython3",
   "version": "3.9.12"
  },
  "nbproject": {
   "id": "CfcLn8WBSlKt",
   "parent": [
    "z14KWQKD4bwE",
    "jhvyoIrxoeSz"
   ],
   "pypackage": {
    "nbformat": "5.4.0",
    "nbproject": "0.1.6",
    "pandas": "1.4.2"
   },
   "time_init": "2022-07-18T13:04:49.875497+00:00",
   "version": "draft"
  },
  "vscode": {
   "interpreter": {
    "hash": "2775e555cdc2d728c54aa22130c79afb1fa4da64f22f2fc6dcc2aa346c4e0672"
   }
  }
 },
 "nbformat": 4,
 "nbformat_minor": 5
}
