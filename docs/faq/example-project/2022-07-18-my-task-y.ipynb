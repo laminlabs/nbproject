{
 "cells": [
  {
   "cell_type": "markdown",
   "id": "23791b5d",
   "metadata": {},
   "source": [
    "# My task Y"
   ]
  },
  {
   "cell_type": "code",
   "execution_count": null,
   "id": "82f7ed3a",
   "metadata": {},
   "outputs": [],
   "source": [
    "%%time\n",
    "from nbproject import header\n",
    "\n",
    "header()"
   ]
  },
  {
   "cell_type": "code",
   "execution_count": null,
   "id": "556b80b4",
   "metadata": {},
   "outputs": [],
   "source": [
    "import pandas as pd"
   ]
  },
  {
   "cell_type": "code",
   "execution_count": null,
   "id": "062e4cf5",
   "metadata": {},
   "outputs": [],
   "source": [
    "df = pd.DataFrame({\"a\": [1, 2, 3], \"b\": [2, 3, 4]})"
   ]
  },
  {
   "cell_type": "code",
   "execution_count": null,
   "id": "d94a8d94",
   "metadata": {},
   "outputs": [],
   "source": [
    "df"
   ]
  },
  {
   "cell_type": "code",
   "execution_count": null,
   "id": "a4e9d74e",
   "metadata": {},
   "outputs": [],
   "source": [
    "df.min()"
   ]
  }
 ],
 "metadata": {
  "kernelspec": {
   "display_name": "Python 3 (ipykernel)",
   "language": "python",
   "name": "python3"
  },
  "language_info": {
   "codemirror_mode": {
    "name": "ipython",
    "version": 3
   },
   "file_extension": ".py",
   "mimetype": "text/x-python",
   "name": "python",
   "nbconvert_exporter": "python",
   "pygments_lexer": "ipython3",
   "version": "3.9.12"
  },
  "nbproject": {
   "id": "RsTp3QoTb68g",
   "pypackage": {
    "nbproject": "0+untagged.34.g096f461",
    "pandas": "1.4.2"
   },
   "time_init": "2022-07-18T15:22:49.697754+00:00",
   "version": "0"
  }
 },
 "nbformat": 4,
 "nbformat_minor": 5
}
