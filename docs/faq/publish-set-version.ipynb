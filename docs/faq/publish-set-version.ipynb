{
 "cells": [
  {
   "cell_type": "markdown",
   "id": "00178cd6-39c2-499b-969d-1f547a586124",
   "metadata": {},
   "source": [
    "# Publish with manually setting a version"
   ]
  },
  {
   "cell_type": "code",
   "execution_count": null,
   "id": "aed6d5aa-3825-4b82-bdc1-cd973c9fea98",
   "metadata": {},
   "outputs": [],
   "source": [
    "from nbproject import header, publish\n",
    "\n",
    "header()"
   ]
  },
  {
   "cell_type": "code",
   "execution_count": null,
   "id": "a61b5e1f-1556-4a98-814a-a3a0e0fa9a03",
   "metadata": {},
   "outputs": [],
   "source": [
    "print(\"hello world\")"
   ]
  },
  {
   "cell_type": "code",
   "execution_count": null,
   "id": "adb818bf-68a3-439f-95ed-2bbd56a682f3",
   "metadata": {},
   "outputs": [],
   "source": [
    "publish(version=\"1.2\")"
   ]
  }
 ],
 "metadata": {
  "kernelspec": {
   "display_name": "Python 3 (ipykernel)",
   "language": "python",
   "name": "python3"
  },
  "language_info": {
   "codemirror_mode": {
    "name": "ipython",
    "version": 3
   },
   "file_extension": ".py",
   "mimetype": "text/x-python",
   "name": "python",
   "nbconvert_exporter": "python",
   "pygments_lexer": "ipython3",
   "version": "3.9.12"
  },
  "nbproject": {
   "id": "I5wv6FHY2lUH",
   "pypackage": null,
   "time_init": "2022-07-16T18:36:12.828570+00:00",
   "version": "0"
  }
 },
 "nbformat": 4,
 "nbformat_minor": 5
}
