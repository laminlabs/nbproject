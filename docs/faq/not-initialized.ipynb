{
 "cells": [
  {
   "cell_type": "markdown",
   "id": "26e6045d-f4e7-45a9-b6fb-4641cc0d6f86",
   "metadata": {},
   "source": [
    "# Access metadata of un-initialized notebook"
   ]
  },
  {
   "cell_type": "code",
   "execution_count": null,
   "id": "13774927-ff59-40c1-888a-abec89465244",
   "metadata": {},
   "outputs": [],
   "source": [
    "from nbproject import meta"
   ]
  },
  {
   "cell_type": "code",
   "execution_count": null,
   "id": "cf19c0f9-8f4e-4451-8a09-e78a7da550c5",
   "metadata": {},
   "outputs": [],
   "source": [
    "meta.store.id"
   ]
  },
  {
   "cell_type": "code",
   "execution_count": null,
   "id": "2bfbbe72-70a7-45f1-80e4-79021b2dd761",
   "metadata": {},
   "outputs": [],
   "source": [
    "meta.store.time_init"
   ]
  },
  {
   "cell_type": "code",
   "execution_count": null,
   "id": "cdafba5c-226d-47cd-a79b-337928ab0d31",
   "metadata": {},
   "outputs": [],
   "source": [
    "meta.store.version"
   ]
  },
  {
   "cell_type": "code",
   "execution_count": null,
   "id": "fbcc2e26-181d-4568-80e0-b6bf51dba86d",
   "metadata": {},
   "outputs": [],
   "source": [
    "assert meta.store.id == \"not initialized\"\n",
    "assert meta.store.time_init == \"not initialized\"\n",
    "assert meta.store.version == \"not initialized\""
   ]
  },
  {
   "cell_type": "code",
   "execution_count": null,
   "id": "9ed861eb-874b-4409-b339-6516ff66d898",
   "metadata": {},
   "outputs": [],
   "source": [
    "meta.live.time_run"
   ]
  },
  {
   "cell_type": "code",
   "execution_count": null,
   "id": "cb466e13-b03f-4b86-8b1e-350596cd9734",
   "metadata": {},
   "outputs": [],
   "source": [
    "meta.live.time_passed"
   ]
  },
  {
   "cell_type": "code",
   "execution_count": null,
   "id": "349d5652-f9bb-408f-b68f-e98caba0461c",
   "metadata": {},
   "outputs": [],
   "source": [
    "meta.live.consecutive_cells"
   ]
  },
  {
   "cell_type": "code",
   "execution_count": null,
   "id": "4ce85093-6b5a-4616-8c23-d8b972707314",
   "metadata": {},
   "outputs": [],
   "source": [
    "meta.live.pypackage"
   ]
  },
  {
   "cell_type": "code",
   "execution_count": null,
   "id": "a6e24832-3103-4b0b-a808-0c23ef820525",
   "metadata": {},
   "outputs": [],
   "source": [
    "meta.live.title"
   ]
  }
 ],
 "metadata": {
  "kernelspec": {
   "display_name": "Python 3 (ipykernel)",
   "language": "python",
   "name": "python3"
  },
  "language_info": {
   "codemirror_mode": {
    "name": "ipython",
    "version": 3
   },
   "file_extension": ".py",
   "mimetype": "text/x-python",
   "name": "python",
   "nbconvert_exporter": "python",
   "pygments_lexer": "ipython3",
   "version": "3.9.12"
  }
 },
 "nbformat": 4,
 "nbformat_minor": 5
}
