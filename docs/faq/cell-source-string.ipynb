{
 "cells": [
  {
   "cell_type": "markdown",
   "id": "65e19088d582d71d",
   "metadata": {},
   "source": "# Check with cell sources being strings"
  },
  {
   "cell_type": "code",
   "execution_count": null,
   "id": "3a01a044c3767dc9",
   "metadata": {},
   "outputs": [],
   "source": "import nbproject"
  },
  {
   "cell_type": "code",
   "execution_count": null,
   "id": "7051321d7eb8c452",
   "metadata": {},
   "outputs": [],
   "source": "assert nbproject.meta.live.title == \"Check with cell sources being strings\""
  },
  {
   "cell_type": "code",
   "execution_count": null,
   "id": "b2d5e63449430ff8",
   "metadata": {},
   "outputs": [],
   "source": "assert nbproject.meta.live.consecutive_cells"
  },
  {
   "cell_type": "code",
   "execution_count": null,
   "id": "d32912abaefbdc13",
   "metadata": {},
   "outputs": [],
   "source": ""
  }
 ],
 "metadata": {
  "kernelspec": {
   "display_name": "Python 3",
   "language": "python",
   "name": "python3"
  },
  "language_info": {
   "codemirror_mode": {
    "name": "ipython",
    "version": 2
   },
   "file_extension": ".py",
   "mimetype": "text/x-python",
   "name": "python",
   "nbconvert_exporter": "python",
   "pygments_lexer": "ipython2",
   "version": "2.7.6"
  }
 },
 "nbformat": 4,
 "nbformat_minor": 5
}
