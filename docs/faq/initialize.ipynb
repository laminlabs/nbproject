{
 "cells": [
  {
   "cell_type": "markdown",
   "metadata": {},
   "source": [
    "# Initialize nbproject for your notebook"
   ]
  },
  {
   "cell_type": "markdown",
   "metadata": {},
   "source": [
    "To initialize nbproject, call {func}`nbproject.header`. For example, by adding `from nbproject import header; header()` to the first code cell:"
   ]
  },
  {
   "cell_type": "markdown",
   "metadata": {},
   "source": [
    "Jupyter Lab | VS Code | Classic Notebook\n",
    "--- | --- | ---\n",
    "Displays \"Initializing.\" and requires no further action. | <img width=\"1088\" alt=\"image\" src=\"https://user-images.githubusercontent.com/16916678/178651501-f0e1d183-9f9a-4ef7-9002-355c7c9c0f5a.png\"> | <img width=\"1165\" alt=\"image\" src=\"https://user-images.githubusercontent.com/16916678/178651117-fc687184-b669-4e06-8965-fe3b35b11218.png\">"
   ]
  },
  {
   "cell_type": "markdown",
   "metadata": {},
   "source": [
    "```{important}\n",
    "\n",
    "- You'll have the best interactive experience in **Jupyter Lab**.\n",
    "- In other editors, you'll need to manually hit save and reload the changed `.ipynb` file from disk (discard the editor content).\n",
    "\n",
    "We recommend you use Jupyter Lab for a seamless interactive experience.\n",
    "\n",
    "```\n",
    "\n",
    "```{hint}\n",
    "\n",
    "If you instead want to bulk-initialize a whole folder with notebooks, use the CLI: {doc}`../tutorials/cli`.\n",
    "\n",
    "```"
   ]
  }
 ],
 "metadata": {
  "kernelspec": {
   "display_name": "Python 3.9.12 ('base1')",
   "language": "python",
   "name": "python3"
  },
  "language_info": {
   "codemirror_mode": {
    "name": "ipython",
    "version": 3
   },
   "file_extension": ".py",
   "mimetype": "text/x-python",
   "name": "python",
   "nbconvert_exporter": "python",
   "pygments_lexer": "ipython3",
   "version": "3.9.12"
  },
  "vscode": {
   "interpreter": {
    "hash": "2775e555cdc2d728c54aa22130c79afb1fa4da64f22f2fc6dcc2aa346c4e0672"
   }
  }
 },
 "nbformat": 4,
 "nbformat_minor": 4
}
