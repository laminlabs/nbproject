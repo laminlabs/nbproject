{
 "cells": [
  {
   "cell_type": "markdown",
   "id": "b37af009",
   "metadata": {},
   "source": [
    "# Set nbproject env using the environment variable"
   ]
  },
  {
   "cell_type": "markdown",
   "id": "8b0b130b",
   "metadata": {},
   "source": [
    "By setting `\"NBPRJ_TEST_NBENV\"` it is possible to overwrite `env` identified by `nbproject`."
   ]
  },
  {
   "cell_type": "code",
   "execution_count": null,
   "id": "950cfe0c",
   "metadata": {},
   "outputs": [],
   "source": [
    "import os\n",
    "\n",
    "os.environ[\"NBPRJ_TEST_NBENV\"] = \"set_test\""
   ]
  },
  {
   "cell_type": "code",
   "execution_count": null,
   "id": "8f72e170",
   "metadata": {},
   "outputs": [],
   "source": [
    "from nbproject.dev import notebook_path"
   ]
  },
  {
   "cell_type": "code",
   "execution_count": null,
   "id": "a2149c9d",
   "metadata": {},
   "outputs": [],
   "source": [
    "filename, env = notebook_path(return_env=True)"
   ]
  },
  {
   "cell_type": "code",
   "execution_count": null,
   "id": "de5ae800",
   "metadata": {},
   "outputs": [],
   "source": [
    "assert env == \"set_test\""
   ]
  }
 ],
 "metadata": {
  "kernelspec": {
   "display_name": "Python 3 (ipykernel)",
   "language": "python",
   "name": "python3"
  },
  "language_info": {
   "codemirror_mode": {
    "name": "ipython",
    "version": 3
   },
   "file_extension": ".py",
   "mimetype": "text/x-python",
   "name": "python",
   "nbconvert_exporter": "python",
   "pygments_lexer": "ipython3",
   "version": "3.9.12"
  }
 },
 "nbformat": 4,
 "nbformat_minor": 5
}
