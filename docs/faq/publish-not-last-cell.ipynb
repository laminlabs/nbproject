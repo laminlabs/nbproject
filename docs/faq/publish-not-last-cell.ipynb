{
 "cells": [
  {
   "cell_type": "markdown",
   "id": "2f91595e-231a-4be8-b405-582c8ba4b948",
   "metadata": {},
   "source": [
    "# Publish not from the last code cell"
   ]
  },
  {
   "cell_type": "code",
   "execution_count": null,
   "id": "ae93af3f-1e6a-4d2f-b3b0-fdc845b50d0e",
   "metadata": {},
   "outputs": [],
   "source": [
    "from nbproject import header, publish\n",
    "\n",
    "header()"
   ]
  },
  {
   "cell_type": "code",
   "execution_count": null,
   "id": "662b93db-b40a-4fa5-95fb-f22ddca3d309",
   "metadata": {},
   "outputs": [],
   "source": [
    "import pytest"
   ]
  },
  {
   "cell_type": "markdown",
   "id": "0eb38aa5-35c6-4079-985a-b91e4859a8de",
   "metadata": {},
   "source": [
    "The following will throw an error, because publish is not in the last code cell."
   ]
  },
  {
   "cell_type": "code",
   "execution_count": null,
   "id": "e6943826-f6ac-414a-b3b2-e4f8af86823b",
   "metadata": {},
   "outputs": [],
   "source": [
    "with pytest.raises(RuntimeError):\n",
    "    publish(i_confirm_i_saved=True)"
   ]
  },
  {
   "cell_type": "code",
   "execution_count": null,
   "id": "c8a637c0",
   "metadata": {},
   "outputs": [],
   "source": [
    "1 + 1"
   ]
  }
 ],
 "metadata": {
  "kernelspec": {
   "display_name": "Python 3 (ipykernel)",
   "language": "python",
   "name": "python3"
  },
  "language_info": {
   "codemirror_mode": {
    "name": "ipython",
    "version": 3
   },
   "file_extension": ".py",
   "mimetype": "text/x-python",
   "name": "python",
   "nbconvert_exporter": "python",
   "pygments_lexer": "ipython3",
   "version": "3.9.12"
  },
  "nbproject": {
   "id": "VahIVDKKScdz",
   "pypackage": null,
   "time_init": "2022-07-11T12:16:53.444875+00:00",
   "version": "0"
  }
 },
 "nbformat": 4,
 "nbformat_minor": 5
}
