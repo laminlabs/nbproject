{
 "cells": [
  {
   "cell_type": "markdown",
   "id": "1bead9ef",
   "metadata": {},
   "source": [
    "# Author field in `header` and `meta.store`"
   ]
  },
  {
   "cell_type": "code",
   "execution_count": null,
   "id": "4a2ddf26",
   "metadata": {},
   "outputs": [],
   "source": [
    "from nbproject import header, meta"
   ]
  },
  {
   "cell_type": "markdown",
   "id": "8b390071",
   "metadata": {},
   "source": [
    "If a `lamindb` user account was [set up](https://lamin.ai/docs/db/guide/get-started), then initialized headers of notebooks will have an author field consisting of `user_handle` and `user_id` in brackets. Here they are the same."
   ]
  },
  {
   "cell_type": "code",
   "execution_count": null,
   "id": "d25474c3",
   "metadata": {},
   "outputs": [],
   "source": [
    "header()"
   ]
  },
  {
   "cell_type": "code",
   "execution_count": null,
   "id": "031af731",
   "metadata": {},
   "outputs": [],
   "source": [
    "meta"
   ]
  },
  {
   "cell_type": "code",
   "execution_count": null,
   "id": "4bc94a37",
   "metadata": {},
   "outputs": [],
   "source": [
    "assert meta.store.user_handle == \"qTQ5q0ar\"\n",
    "assert meta.store.user_id == \"qTQ5q0ar\""
   ]
  }
 ],
 "metadata": {
  "kernelspec": {
   "display_name": "Python 3 (ipykernel)",
   "language": "python",
   "name": "python3"
  },
  "language_info": {
   "codemirror_mode": {
    "name": "ipython",
    "version": 3
   },
   "file_extension": ".py",
   "mimetype": "text/x-python",
   "name": "python",
   "nbconvert_exporter": "python",
   "pygments_lexer": "ipython3",
   "version": "3.9.12"
  },
  "nbproject": {
   "id": "Zv1wV7oM9ztH",
   "parent": null,
   "pypackage": null,
   "time_init": "2022-10-09T15:08:04.997800+00:00",
   "user_handle": "qTQ5q0ar",
   "user_id": "qTQ5q0ar",
   "version": "0"
  }
 },
 "nbformat": 4,
 "nbformat_minor": 5
}
