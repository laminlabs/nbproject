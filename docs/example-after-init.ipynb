{
 "cells": [
  {
   "cell_type": "markdown",
   "id": "cc6c2fe6-6291-4a91-b326-b1ec6cb8d703",
   "metadata": {
    "tags": []
   },
   "source": [
    "# Example notebook after init"
   ]
  },
  {
   "cell_type": "markdown",
   "id": "752e0baa-5e48-46c0-958d-f48796ff3b2f",
   "metadata": {},
   "source": [
    "Here we see how `nbproject` prints a metadata header for a notebook that has been initialized."
   ]
  },
  {
   "cell_type": "code",
   "execution_count": null,
   "id": "705ac1d5-cbd9-421f-841e-d91e15faa962",
   "metadata": {},
   "outputs": [],
   "source": [
    "from nbproject import header"
   ]
  }
 ],
 "metadata": {
  "interpreter": {
   "hash": "40d3a090f54c6569ab1632332b64b2c03c39dcf918b08424e98f38b5ae0af88f"
  },
  "kernelspec": {
   "display_name": "Python 3 (ipykernel)",
   "language": "python",
   "name": "python3"
  },
  "language_info": {
   "codemirror_mode": {
    "name": "ipython",
    "version": 3
   },
   "file_extension": ".py",
   "mimetype": "text/x-python",
   "name": "python",
   "nbconvert_exporter": "python",
   "pygments_lexer": "ipython3",
   "version": "3.9.7"
  },
  "nbproject_time_edit": "2022-03-23T21:26:44.779867+00:00",
  "nbproject_time_init": "2022-03-23T21:26:44.779854+00:00",
  "nbproject_uuid": "67cf19d238ce4b3697572eb89bfa15bc"
 },
 "nbformat": 4,
 "nbformat_minor": 5
}
