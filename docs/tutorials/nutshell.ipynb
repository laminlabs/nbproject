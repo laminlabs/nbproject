{
 "cells": [
  {
   "cell_type": "markdown",
   "metadata": {},
   "source": [
    "# nbproject in a nutshell"
   ]
  },
  {
   "cell_type": "markdown",
   "metadata": {},
   "source": [
    "In nbproject, managing notebooks means tracking notebook context by decorating them with two functions:\n",
    "\n",
    "1. {func}`~nbproject.header`: Provide relevant context when starting to work in a notebook.\n",
    "2. {func}`~nbproject.footer`: Prepare notebook for sharing it with someone else: version it, check its integrity, and write dependencies.\n",
    "\n",
    "While 1. helps _you_ - the creator of the notebook - 2. helps the receiver of a notebook.[^yourself]\n",
    "\n",
    "[^yourself]: The receiver of a notebook might be yourself, 6 months from today, when you try to reproduce what you did today."
   ]
  },
  {
   "cell_type": "code",
   "execution_count": null,
   "metadata": {},
   "outputs": [],
   "source": [
    "from nbproject import header, publish\n",
    "\n",
    "header()  # Initialize ID, time stamps, versioning & dependency tracking, display metadata as header"
   ]
  },
  {
   "cell_type": "code",
   "execution_count": null,
   "metadata": {},
   "outputs": [],
   "source": [
    "# Do fancy stuff in this notebook!\n",
    "#\n",
    "# Often, transform data to generate insight. If you're really just prototyping, nbproject might not be for you\n",
    "#\n",
    "# code cells:\n",
    "#    data = load_data(data_storage)\n",
    "#    useful_representation = model(data)\n",
    "#    plot_things(useful_representation)\n",
    "#\n",
    "# markdown cells:\n",
    "#    write down a conclusion"
   ]
  },
  {
   "cell_type": "markdown",
   "metadata": {},
   "source": [
    "After minutes, hours, days, or weeks of working on the problem that your notebook tries to solve, you're at least happy with an initial version and wanna share it with someone else to see what they think.\n",
    "\n",
    "nbproject makes it easy to make the other party happy by giving them enough context to have a meaningful conversation:\n",
    "1. What's the idea behind this notebook: it's captured in the title & the id.\n",
    "2. How long did someone work on this notebook: it's the difference between the last time the notebook was run and when it was created.\n",
    "3. What's the version of the notebook, is it still a draft, version 1, version 2, version 2.1 etc?\n",
    "4. What were the key dependencies for achieving the result?\n",
    "5. Does the notebook have high integrity and was run consecutively?"
   ]
  },
  {
   "cell_type": "markdown",
   "metadata": {},
   "source": [
    "footer()"
   ]
  }
 ],
 "metadata": {
  "interpreter": {
   "hash": "40d3a090f54c6569ab1632332b64b2c03c39dcf918b08424e98f38b5ae0af88f"
  },
  "kernelspec": {
   "display_name": "Python 3 (ipykernel)",
   "language": "python",
   "name": "python3"
  },
  "language_info": {
   "codemirror_mode": {
    "name": "ipython",
    "version": 3
   },
   "file_extension": ".py",
   "mimetype": "text/x-python",
   "name": "python",
   "nbconvert_exporter": "python",
   "pygments_lexer": "ipython3",
   "version": "3.9.7"
  },
  "nbproject": {
   "dependency": null,
   "id": "jhvyoIrxoeSz",
   "time_init": "2022-07-10T20:15:26.365855+00:00",
   "version": "draft"
  }
 },
 "nbformat": 4,
 "nbformat_minor": 4
}
