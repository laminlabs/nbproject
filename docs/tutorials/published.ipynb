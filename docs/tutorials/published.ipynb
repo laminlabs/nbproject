{
 "cells": [
  {
   "cell_type": "markdown",
   "id": "e39f24eb-802a-4fa5-b9e1-141cf1ebab72",
   "metadata": {
    "tags": []
   },
   "source": [
    "# Receiver: Continue someone else's work"
   ]
  },
  {
   "cell_type": "markdown",
   "id": "3d636af2-d167-4a99-a513-c3b68ef9736e",
   "metadata": {},
   "source": [
    "We're still on the same notebook (`r4Dk`), but now let's pretend we received it from a collaborator.\n",
    "\n",
    "Or let's assume it's linked to a piece of data that we're working with, and we want to understand how that piece of data came about.\n",
    "\n",
    "If we're rerunning tha published notebook, the header output changes: It's now showing us both the **stored** dependencies, and the dependencies of our current live environment.\n",
    "\n",
    "This way, we right away see those packages that change, and to which we need to pay particular attention to.\n",
    "\n",
    "_[Here, link to \"semantic/qualitative reproducibility/correctness\" vs. \"perfect reproducibility/correctness\" in the report draft.]_"
   ]
  },
  {
   "cell_type": "code",
   "execution_count": null,
   "id": "4bdcc2dd-3bf4-43e3-9305-10722283b415",
   "metadata": {},
   "outputs": [],
   "source": [
    "from nbproject import header, publish\n",
    "\n",
    "header()"
   ]
  },
  {
   "cell_type": "code",
   "execution_count": null,
   "id": "5612a45d-6250-40ce-a4ae-d2b24db515ed",
   "metadata": {},
   "outputs": [],
   "source": [
    "import pandas as pd"
   ]
  },
  {
   "cell_type": "code",
   "execution_count": null,
   "id": "8c76e678-4226-41de-9bc5-28a75a0cf7cb",
   "metadata": {},
   "outputs": [],
   "source": [
    "df = pd.DataFrame({\"a\": [1, 2, 3], \"b\": [2, 3, 4]})"
   ]
  },
  {
   "cell_type": "code",
   "execution_count": null,
   "id": "80bc64bb-e7bf-41b7-a2fa-9ccdbf11fa91",
   "metadata": {},
   "outputs": [],
   "source": [
    "df"
   ]
  },
  {
   "cell_type": "code",
   "execution_count": null,
   "id": "aa979e5d-4589-4eed-bd08-5474038bb565",
   "metadata": {},
   "outputs": [],
   "source": [
    "# publish()\n",
    "# Cell numbers increase at increments of 1: Awesome!\n",
    "# Bumped notebook version to 1. Wrote dependencies to dependency store."
   ]
  }
 ],
 "metadata": {
  "kernelspec": {
   "display_name": "Python 3.9.12 ('base1')",
   "language": "python",
   "name": "python3"
  },
  "language_info": {
   "codemirror_mode": {
    "name": "ipython",
    "version": 3
   },
   "file_extension": ".py",
   "mimetype": "text/x-python",
   "name": "python",
   "nbconvert_exporter": "python",
   "pygments_lexer": "ipython3",
   "version": "3.9.12"
  },
  "nbproject": {
   "dependency": {
    "nbproject": "0.1.0",
    "pandas": "1.4.2"
   },
   "id": "r4Dkcgt2HIfh",
   "time_init": "2022-06-29T10:48:20.068989+00:00",
   "version": "1"
  },
  "vscode": {
   "interpreter": {
    "hash": "2775e555cdc2d728c54aa22130c79afb1fa4da64f22f2fc6dcc2aa346c4e0672"
   }
  }
 },
 "nbformat": 4,
 "nbformat_minor": 5
}
