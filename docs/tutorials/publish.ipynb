{
 "cells": [
  {
   "cell_type": "markdown",
   "id": "e39f24eb-802a-4fa5-b9e1-141cf1ebab72",
   "metadata": {
    "tags": []
   },
   "source": [
    "# Sender: Publish your notebook"
   ]
  },
  {
   "cell_type": "markdown",
   "id": "77cea1ab-52d8-496c-9874-2b0fc5a3fdcc",
   "metadata": {},
   "source": [
    "The present notebook is the _same_ notebook as the one we just saw (`r4Dkcgt2HIfh`).\n",
    "\n",
    "However, it's now published - it calls {func}`nbproject.publish` at the end of the notebook and shows `version = '1'` (or any other version number that the publisher specified).\n",
    "\n",
    "Typically, we're looking at a published notebook after obtaining it from another party.\n",
    "\n",
    "If we're looking at a published notebook, we can expect that:\n",
    "\n",
    "1. The stored dependencies are those that were used to obtain the result.\n",
    "2. The notebook has been executed sequentially and is hence non-corrupted: it has high consecutiveness and can be trusted.\n",
    "\n",
    "Conversely, when you run {func}`nbproject.publish` before sharing the notebook with someone else, what happens under the hood is\n",
    "\n",
    "1. The version number is bumped from \"draft\" to a published version number >= \"1\".\n",
    "2. The stored dependencies get updated by the live environment dependencies.\n",
    "3. An consecutiveness check runs that checks that your notebook cells have been executed incrementally."
   ]
  },
  {
   "cell_type": "code",
   "execution_count": 1,
   "id": "4bdcc2dd-3bf4-43e3-9305-10722283b415",
   "metadata": {
    "execution": {
     "iopub.execute_input": "2022-07-09T18:09:09.862875Z",
     "iopub.status.busy": "2022-07-09T18:09:09.862544Z",
     "iopub.status.idle": "2022-07-09T18:09:10.148050Z",
     "shell.execute_reply": "2022-07-09T18:09:10.147756Z"
    }
   },
   "outputs": [
    {
     "data": {
      "text/html": [
       "<table><tbody><tr><td style='text-align: left;'><b>id</b></td><td style='text-align: left;'>r4Dk<span style='opacity:0.3'>cgt2HIfh</td></tr><tr><td style='text-align: left;'><b>time_init</b></td><td style='text-align: left;'>2022-06-29 10:48</td></tr><tr><td style='text-align: left;'><b>time_run</b></td><td style='text-align: left;'>2022-07-09 18:09</td></tr><tr><td style='text-align: left;'><b>version</b></td><td style='text-align: left;'>draft</td></tr><tr><td style='text-align: left;'><b>dependency</b></td><td style='text-align: left;'>nbproject==0.0.9 pandas==1.4.2</td></tr></tbody></table>"
      ],
      "text/plain": [
       "<IPython.core.display.HTML object>"
      ]
     },
     "metadata": {},
     "output_type": "display_data"
    }
   ],
   "source": [
    "from nbproject import header, publish\n",
    "\n",
    "header()"
   ]
  },
  {
   "cell_type": "code",
   "execution_count": 2,
   "id": "5612a45d-6250-40ce-a4ae-d2b24db515ed",
   "metadata": {
    "execution": {
     "iopub.execute_input": "2022-07-09T18:09:10.149802Z",
     "iopub.status.busy": "2022-07-09T18:09:10.149699Z",
     "iopub.status.idle": "2022-07-09T18:09:10.386686Z",
     "shell.execute_reply": "2022-07-09T18:09:10.386377Z"
    }
   },
   "outputs": [],
   "source": [
    "import pandas as pd"
   ]
  },
  {
   "cell_type": "code",
   "execution_count": 3,
   "id": "8c76e678-4226-41de-9bc5-28a75a0cf7cb",
   "metadata": {
    "execution": {
     "iopub.execute_input": "2022-07-09T18:09:10.388663Z",
     "iopub.status.busy": "2022-07-09T18:09:10.388545Z",
     "iopub.status.idle": "2022-07-09T18:09:10.391094Z",
     "shell.execute_reply": "2022-07-09T18:09:10.390771Z"
    }
   },
   "outputs": [],
   "source": [
    "df = pd.DataFrame({\"a\": [1, 2, 3], \"b\": [2, 3, 4]})"
   ]
  },
  {
   "cell_type": "code",
   "execution_count": 4,
   "id": "80bc64bb-e7bf-41b7-a2fa-9ccdbf11fa91",
   "metadata": {
    "execution": {
     "iopub.execute_input": "2022-07-09T18:09:10.392888Z",
     "iopub.status.busy": "2022-07-09T18:09:10.392781Z",
     "iopub.status.idle": "2022-07-09T18:09:10.396828Z",
     "shell.execute_reply": "2022-07-09T18:09:10.396545Z"
    }
   },
   "outputs": [
    {
     "data": {
      "text/html": [
       "<div>\n",
       "<style scoped>\n",
       "    .dataframe tbody tr th:only-of-type {\n",
       "        vertical-align: middle;\n",
       "    }\n",
       "\n",
       "    .dataframe tbody tr th {\n",
       "        vertical-align: top;\n",
       "    }\n",
       "\n",
       "    .dataframe thead th {\n",
       "        text-align: right;\n",
       "    }\n",
       "</style>\n",
       "<table border=\"1\" class=\"dataframe\">\n",
       "  <thead>\n",
       "    <tr style=\"text-align: right;\">\n",
       "      <th></th>\n",
       "      <th>a</th>\n",
       "      <th>b</th>\n",
       "    </tr>\n",
       "  </thead>\n",
       "  <tbody>\n",
       "    <tr>\n",
       "      <th>0</th>\n",
       "      <td>1</td>\n",
       "      <td>2</td>\n",
       "    </tr>\n",
       "    <tr>\n",
       "      <th>1</th>\n",
       "      <td>2</td>\n",
       "      <td>3</td>\n",
       "    </tr>\n",
       "    <tr>\n",
       "      <th>2</th>\n",
       "      <td>3</td>\n",
       "      <td>4</td>\n",
       "    </tr>\n",
       "  </tbody>\n",
       "</table>\n",
       "</div>"
      ],
      "text/plain": [
       "   a  b\n",
       "0  1  2\n",
       "1  2  3\n",
       "2  3  4"
      ]
     },
     "execution_count": 4,
     "metadata": {},
     "output_type": "execute_result"
    }
   ],
   "source": [
    "df"
   ]
  },
  {
   "cell_type": "code",
   "execution_count": 5,
   "id": "8edb2c25-14f2-41ca-b57c-02c326654504",
   "metadata": {
    "execution": {
     "iopub.execute_input": "2022-07-09T18:09:10.398504Z",
     "iopub.status.busy": "2022-07-09T18:09:10.398419Z",
     "iopub.status.idle": "2022-07-09T18:09:10.403099Z",
     "shell.execute_reply": "2022-07-09T18:09:10.402806Z"
    }
   },
   "outputs": [
    {
     "name": "stdout",
     "output_type": "stream",
     "text": [
      "Cell numbers increase at increments of 1: Awesome!\n"
     ]
    },
    {
     "name": "stdout",
     "output_type": "stream",
     "text": [
      "Bumped notebook version to 1. Wrote dependencies to dependency store.\n"
     ]
    }
   ],
   "source": [
    "publish(i_confirm_i_saved=True)"
   ]
  }
 ],
 "metadata": {
  "kernelspec": {
   "display_name": "Python 3.9.12 ('base1')",
   "language": "python",
   "name": "python3"
  },
  "language_info": {
   "codemirror_mode": {
    "name": "ipython",
    "version": 3
   },
   "file_extension": ".py",
   "mimetype": "text/x-python",
   "name": "python",
   "nbconvert_exporter": "python",
   "pygments_lexer": "ipython3",
   "version": "3.9.12"
  },
  "nbproject": {
   "dependency": {
    "nbproject": "0.1.0",
    "pandas": "1.4.2"
   },
   "id": "r4Dkcgt2HIfh",
   "time_init": "2022-06-29T10:48:20.068989+00:00",
   "version": "draft"
  },
  "vscode": {
   "interpreter": {
    "hash": "2775e555cdc2d728c54aa22130c79afb1fa4da64f22f2fc6dcc2aa346c4e0672"
   }
  }
 },
 "nbformat": 4,
 "nbformat_minor": 5
}
