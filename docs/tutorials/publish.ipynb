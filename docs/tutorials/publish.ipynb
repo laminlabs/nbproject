{
 "cells": [
  {
   "cell_type": "markdown",
   "id": "e39f24eb-802a-4fa5-b9e1-141cf1ebab72",
   "metadata": {
    "tags": []
   },
   "source": [
    "# Publish your notebook"
   ]
  },
  {
   "cell_type": "markdown",
   "id": "77cea1ab-52d8-496c-9874-2b0fc5a3fdcc",
   "metadata": {},
   "source": [
    "The present notebook is the _same_ notebook as the one we just saw (`r4Dkcgt2HIfh`).\n",
    "\n",
    "However, it's now published - it calls {func}`nbproject.publish` at the end of the notebook and shows `version = '1'` (or any other version number that the publisher specified).\n",
    "\n",
    "Typically, we're looking at a published notebook after obtaining it from another party.\n",
    "\n",
    "If we're looking at a published notebook, we can expect that:\n",
    "\n",
    "1. The stored dependencies are those that were used to obtain the result.\n",
    "2. The notebook has been executed sequentially and is hence non-corrupted: it has high integrity and can be trusted.\n",
    "\n",
    "Conversely, when you run {func}`nbproject.publish` before sharing the notebook with someone else, what happens under the hood is\n",
    "\n",
    "1. The version number is bumped from \"draft\" to a published version number >= \"1\".\n",
    "2. The stored dependencies get updated by the live environment dependencies.\n",
    "3. An integrity check runs that checks that your notebook cells have been executed incrementally."
   ]
  },
  {
   "cell_type": "code",
   "execution_count": null,
   "id": "4bdcc2dd-3bf4-43e3-9305-10722283b415",
   "metadata": {},
   "outputs": [],
   "source": [
    "from nbproject import header, publish"
   ]
  },
  {
   "cell_type": "code",
   "execution_count": null,
   "id": "5612a45d-6250-40ce-a4ae-d2b24db515ed",
   "metadata": {},
   "outputs": [],
   "source": [
    "import pandas as pd"
   ]
  },
  {
   "cell_type": "code",
   "execution_count": null,
   "id": "8c76e678-4226-41de-9bc5-28a75a0cf7cb",
   "metadata": {},
   "outputs": [],
   "source": [
    "df = pd.DataFrame({\"a\": [1, 2, 3], \"b\": [2, 3, 4]})"
   ]
  },
  {
   "cell_type": "code",
   "execution_count": null,
   "id": "80bc64bb-e7bf-41b7-a2fa-9ccdbf11fa91",
   "metadata": {},
   "outputs": [],
   "source": [
    "df"
   ]
  },
  {
   "cell_type": "code",
   "execution_count": null,
   "id": "8edb2c25-14f2-41ca-b57c-02c326654504",
   "metadata": {},
   "outputs": [],
   "source": [
    "publish(ignore_integrity=True)"
   ]
  }
 ],
 "metadata": {
  "kernelspec": {
   "display_name": "Python 3 (ipykernel)",
   "language": "python",
   "name": "python3"
  },
  "language_info": {
   "codemirror_mode": {
    "name": "ipython",
    "version": 3
   },
   "file_extension": ".py",
   "mimetype": "text/x-python",
   "name": "python",
   "nbconvert_exporter": "python",
   "pygments_lexer": "ipython3",
   "version": "3.9.12"
  },
  "nbproject": {
   "dependency": {
    "nbproject": "0.1.0",
    "pandas": "1.4.2"
   },
   "id": "r4Dkcgt2HIfh",
   "time_init": "2022-06-29T10:48:20.068989+00:00",
   "version": "draft"
  }
 },
 "nbformat": 4,
 "nbformat_minor": 5
}
