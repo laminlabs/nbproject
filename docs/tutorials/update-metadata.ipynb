{
 "cells": [
  {
   "cell_type": "markdown",
   "id": "4c5d9cf8",
   "metadata": {
    "tags": []
   },
   "source": [
    "# Update metadata"
   ]
  },
  {
   "cell_type": "markdown",
   "id": "c0aad033-1af5-436d-a8f7-7f5aedba41a8",
   "metadata": {},
   "source": [
    "You can add additional packages to be tracked right at initialization as you can for parents:"
   ]
  },
  {
   "cell_type": "code",
   "execution_count": null,
   "id": "0f734180-2bf1-4341-b068-7ab84764bf57",
   "metadata": {},
   "outputs": [],
   "source": [
    "from nbproject import header, meta\n",
    "import pandas\n",
    "\n",
    "header(\n",
    "    parent=[\n",
    "        \"z14KWQKD4bwE\",\n",
    "        \"jhvyoIrxoeSz\",\n",
    "    ],\n",
    "    pypackage=\"nbformat\",  # Indirect dependencies to be tracked. Direct dependencies are automatically tracked.\n",
    ")"
   ]
  },
  {
   "cell_type": "markdown",
   "id": "bd7d72a2-8fcd-4414-b957-d233664d0fe1",
   "metadata": {},
   "source": [
    "If you want to manually add packages after initialization, use the following:"
   ]
  },
  {
   "cell_type": "code",
   "execution_count": null,
   "id": "ff350260",
   "metadata": {
    "tags": []
   },
   "outputs": [],
   "source": [
    "meta.store.add_pypackages([\"numpy\", \"pytest\"])"
   ]
  },
  {
   "cell_type": "code",
   "execution_count": null,
   "id": "5eb2ba53",
   "metadata": {},
   "outputs": [],
   "source": [
    "meta.store.add_pypackages(\"pandas\")"
   ]
  },
  {
   "cell_type": "markdown",
   "id": "346b4076",
   "metadata": {},
   "source": [
    "The added package does not yet come with a version. It will be set during publish()!"
   ]
  },
  {
   "cell_type": "code",
   "execution_count": null,
   "id": "e91ebef3",
   "metadata": {
    "tags": []
   },
   "outputs": [],
   "source": [
    "meta.store.pypackage"
   ]
  },
  {
   "cell_type": "markdown",
   "id": "cbea77ad-82a9-4b8f-9081-c9bf3ccda0c3",
   "metadata": {},
   "source": [
    "Update parents:"
   ]
  },
  {
   "cell_type": "code",
   "execution_count": null,
   "id": "7b4166ad-907a-4153-9cb3-5f74a7d0e5d9",
   "metadata": {},
   "outputs": [],
   "source": [
    "meta.store.parents = [\n",
    "    \"z14KWQKD4bwE\",\n",
    "    \"jhvyoIrxoeSz\",\n",
    "    \"3m2Q6UBuwgSH\",\n",
    "]"
   ]
  },
  {
   "cell_type": "markdown",
   "id": "2eb0ac87-8338-4a4c-bab1-d84e3c6748be",
   "metadata": {},
   "source": [
    "You can also set any custom metadata field!\n",
    "\n",
    "Write the changes to file."
   ]
  },
  {
   "cell_type": "code",
   "execution_count": null,
   "id": "ea6238da",
   "metadata": {
    "tags": []
   },
   "outputs": [],
   "source": [
    "meta.store.write()"
   ]
  }
 ],
 "metadata": {
  "kernelspec": {
   "display_name": "Python 3 (ipykernel)",
   "language": "python",
   "name": "python3"
  },
  "language_info": {
   "codemirror_mode": {
    "name": "ipython",
    "version": 3
   },
   "file_extension": ".py",
   "mimetype": "text/x-python",
   "name": "python",
   "nbconvert_exporter": "python",
   "pygments_lexer": "ipython3",
   "version": "3.9.12"
  },
  "nbproject": {
   "id": "CfcLn8WBSlKt",
   "parent": [
    "z14KWQKD4bwE",
    "jhvyoIrxoeSz"
   ],
   "pypackage": {
    "nbformat": "5.4.0",
    "nbproject": "0.1.6",
    "pandas": "1.4.2"
   },
   "time_init": "2022-07-18T13:04:49.875497+00:00",
   "version": "draft"
  },
  "vscode": {
   "interpreter": {
    "hash": "2775e555cdc2d728c54aa22130c79afb1fa4da64f22f2fc6dcc2aa346c4e0672"
   }
  }
 },
 "nbformat": 4,
 "nbformat_minor": 5
}
