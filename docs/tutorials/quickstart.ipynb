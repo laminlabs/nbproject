{
 "cells": [
  {
   "cell_type": "markdown",
   "metadata": {},
   "source": [
    "# Quickstart"
   ]
  },
  {
   "cell_type": "markdown",
   "metadata": {},
   "source": [
    "1. {func}`~nbproject.header` provides relevant context.\n",
    "2. {func}`~nbproject.publish` prepares a notebook for sharing it with someone else."
   ]
  },
  {
   "cell_type": "code",
   "execution_count": 1,
   "metadata": {},
   "outputs": [
    {
     "data": {
      "text/html": [
       "<table><tbody><tr><td style='text-align: left;'><b>id</b></td><td style='text-align: left;'>3m2Q<span style='opacity:0.3'>6UBuwgSH</span></td></tr><tr><td style='text-align: left;'><b>version</b></td><td style='text-align: left;'>draft</td></tr><tr><td style='text-align: left;'><b>time_init</b></td><td style='text-align: left;'>2022-07-18 12:32</td></tr><tr><td style='text-align: left;'><b>time_run</b></td><td style='text-align: left;'>2022-07-18 13:00</td></tr><tr><td style='text-align: left;'><b>parent</b></td><td style='text-align: left;'>z14K<span style='opacity:0.3'>WQKD4bwE</span> jhvy<span style='opacity:0.3'>oIrxoeSz</span></td></tr><tr><td style='text-align: left;'><b>pypackage</b></td><td style='text-align: left;'>nbproject==0.1.6 pandas==1.4.2</td></tr></tbody></table>"
      ],
      "text/plain": [
       "<IPython.core.display.HTML object>"
      ]
     },
     "metadata": {},
     "output_type": "display_data"
    }
   ],
   "source": [
    "from nbproject import header, publish, meta\n",
    "\n",
    "header(parent=[\"z14KWQKD4bwE\", \"jhvyoIrxoeSz\"])  # Initializes & displays metadata."
   ]
  },
  {
   "cell_type": "markdown",
   "metadata": {},
   "source": [
    "```{note}\n",
    "\n",
    "- Passing `parent` to `header()` is optional! You can use it to point viewers to upstream notebooks or to build pipelines.\n",
    "- You can also pass `pypackage` to `header()` to track additional dependencies.\n",
    "\n",
    "```"
   ]
  },
  {
   "cell_type": "markdown",
   "metadata": {},
   "source": [
    "Have fun with your notebook. 🥳"
   ]
  },
  {
   "cell_type": "code",
   "execution_count": 2,
   "metadata": {},
   "outputs": [],
   "source": [
    "import pandas  # Any imported package is automatically tracked."
   ]
  },
  {
   "cell_type": "markdown",
   "metadata": {},
   "source": [
    "Once you're happy with the present version of your notebook:"
   ]
  },
  {
   "cell_type": "code",
   "execution_count": null,
   "metadata": {},
   "outputs": [],
   "source": [
    "publish()  # Sets version, checks consecutiveness & title, writes current pypackages with versions."
   ]
  },
  {
   "cell_type": "markdown",
   "metadata": {},
   "source": [
    "```{note}\n",
    "\n",
    "If you're a developer and want to build on top of nbproject, the API offers:\n",
    "\n",
    "- {class}`~nbproject.meta` to access metadata with tutorial {doc}`meta`.\n",
    "- {mod}`~nbproject.dev` for development utils.\n",
    "```"
   ]
  }
 ],
 "metadata": {
  "kernelspec": {
   "display_name": "Python 3 (ipykernel)",
   "language": "python",
   "name": "python3"
  },
  "language_info": {
   "codemirror_mode": {
    "name": "ipython",
    "version": 3
   },
   "file_extension": ".py",
   "mimetype": "text/x-python",
   "name": "python",
   "nbconvert_exporter": "python",
   "pygments_lexer": "ipython3",
   "version": "3.9.12"
  },
  "nbproject": {
   "id": "3m2Q6UBuwgSH",
   "parent": [
    "z14KWQKD4bwE",
    "jhvyoIrxoeSz"
   ],
   "time_init": "2022-07-18T12:32:21.625107+00:00",
   "version": "draft"
  },
  "vscode": {
   "interpreter": {
    "hash": "2775e555cdc2d728c54aa22130c79afb1fa4da64f22f2fc6dcc2aa346c4e0672"
   }
  }
 },
 "nbformat": 4,
 "nbformat_minor": 4
}
