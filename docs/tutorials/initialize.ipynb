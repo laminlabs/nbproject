{
 "cells": [
  {
   "cell_type": "markdown",
   "metadata": {},
   "source": [
    "# Initializing nbproject"
   ]
  },
  {
   "cell_type": "markdown",
   "metadata": {},
   "source": [
    "This here is a freshly created notebook!\n",
    "\n",
    "To get started with nbproject, you add `from nbproject import header` to the first code cell.\n",
    "\n",
    "This will show you the output below and sets up a number of things in the background → {doc}`basic-metadata`.\n",
    "\n",
    "```{important}\n",
    "\n",
    "You'll have the best interactive experience in Jupyter Lab, which will automatically ask you to confirm a restart of the notebook.\n",
    "\n",
    "```\n",
    "\n",
    "```{hint}\n",
    "\n",
    "If you instead want to bulk-initialize a whole folder with notebooks, read this tutorial: {doc}`cli`.\n",
    "\n",
    "```"
   ]
  },
  {
   "cell_type": "code",
   "execution_count": null,
   "metadata": {},
   "outputs": [],
   "source": [
    "from nbproject import header"
   ]
  }
 ],
 "metadata": {
  "interpreter": {
   "hash": "40d3a090f54c6569ab1632332b64b2c03c39dcf918b08424e98f38b5ae0af88f"
  },
  "kernelspec": {
   "display_name": "Python 3 (ipykernel)",
   "language": "python",
   "name": "python3"
  },
  "language_info": {
   "codemirror_mode": {
    "name": "ipython",
    "version": 3
   },
   "file_extension": ".py",
   "mimetype": "text/x-python",
   "name": "python",
   "nbconvert_exporter": "python",
   "pygments_lexer": "ipython3",
   "version": "3.9.12"
  }
 },
 "nbformat": 4,
 "nbformat_minor": 4
}
