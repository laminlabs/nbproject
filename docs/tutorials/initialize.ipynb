{
 "cells": [
  {
   "cell_type": "markdown",
   "metadata": {},
   "source": [
    "# Initialize nbproject for your notebook"
   ]
  },
  {
   "cell_type": "markdown",
   "metadata": {},
   "source": [
    "This here is a freshly created notebook!\n",
    "\n",
    "To get started, add `from nbproject import header` to the first code cell."
   ]
  },
  {
   "cell_type": "code",
   "execution_count": null,
   "metadata": {},
   "outputs": [],
   "source": [
    "from nbproject import header"
   ]
  },
  {
   "cell_type": "markdown",
   "metadata": {},
   "source": [
    "This will ask you to restart the notebook and set up a number of things in the background.\n",
    "\n",
    "```{important}\n",
    "\n",
    "- You'll have the best interactive experience in **Jupyter Lab**, which will restart and re-execute the notebook after you confirm the dialogue.\n",
    "- In other editors, you'll need to reload the changed `.ipynb` file from disk. This feels unintuitive and we're working to improve the user experience.\n",
    "\n",
    "```\n",
    "\n",
    "```{hint}\n",
    "\n",
    "If you instead want to bulk-initialize a whole folder with notebooks, read this tutorial: {doc}`cli`.\n",
    "\n",
    "```"
   ]
  }
 ],
 "metadata": {
  "interpreter": {
   "hash": "40d3a090f54c6569ab1632332b64b2c03c39dcf918b08424e98f38b5ae0af88f"
  },
  "kernelspec": {
   "display_name": "Python 3 (ipykernel)",
   "language": "python",
   "name": "python3"
  },
  "language_info": {
   "codemirror_mode": {
    "name": "ipython",
    "version": 3
   },
   "file_extension": ".py",
   "mimetype": "text/x-python",
   "name": "python",
   "nbconvert_exporter": "python",
   "pygments_lexer": "ipython3",
   "version": "3.9.12"
  }
 },
 "nbformat": 4,
 "nbformat_minor": 4
}
