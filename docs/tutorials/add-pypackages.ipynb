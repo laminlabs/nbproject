{
 "cells": [
  {
   "cell_type": "markdown",
   "id": "4c5d9cf8",
   "metadata": {
    "tags": []
   },
   "source": [
    "# Update the pypackage store"
   ]
  },
  {
   "cell_type": "markdown",
   "id": "02a8f503-afee-4757-b61c-2ce4fe98506f",
   "metadata": {},
   "source": [
    "You can add additional packages to be tracked right at initialization as follows:"
   ]
  },
  {
   "cell_type": "code",
   "execution_count": null,
   "id": "b82e5fd1",
   "metadata": {
    "tags": []
   },
   "outputs": [],
   "source": [
    "from nbproject import header\n",
    "\n",
    "header(\n",
    "    parent=[\n",
    "        \"z14KWQKD4bwE\",\n",
    "        \"jhvyoIrxoeSz\",\n",
    "    ],\n",
    "    pypackage=\"nbformat\",  # Indirect dependencies to be tracked. Direct dependencies are automatically tracked.\n",
    ")"
   ]
  },
  {
   "cell_type": "code",
   "execution_count": null,
   "id": "bc465a84",
   "metadata": {
    "tags": []
   },
   "outputs": [],
   "source": [
    "from nbproject import meta\n",
    "import pandas"
   ]
  },
  {
   "cell_type": "markdown",
   "id": "bd7d72a2-8fcd-4414-b957-d233664d0fe1",
   "metadata": {},
   "source": [
    "If you want to manually add packages after initialization, use the following:"
   ]
  },
  {
   "cell_type": "code",
   "execution_count": null,
   "id": "ff350260",
   "metadata": {
    "tags": []
   },
   "outputs": [],
   "source": [
    "meta.store.add_pypackages([\"numpy\"])"
   ]
  },
  {
   "cell_type": "markdown",
   "id": "346b4076",
   "metadata": {},
   "source": [
    "The added package does not yet come with a version. It will be set during publish()!"
   ]
  },
  {
   "cell_type": "code",
   "execution_count": null,
   "id": "e91ebef3",
   "metadata": {
    "tags": []
   },
   "outputs": [],
   "source": [
    "meta.store.pypackage"
   ]
  },
  {
   "cell_type": "markdown",
   "id": "7c0fdfe0",
   "metadata": {},
   "source": [
    "Write the changes to file."
   ]
  },
  {
   "cell_type": "code",
   "execution_count": null,
   "id": "ea6238da",
   "metadata": {
    "tags": []
   },
   "outputs": [],
   "source": [
    "meta.store.write()"
   ]
  }
 ],
 "metadata": {
  "kernelspec": {
   "display_name": "Python 3 (ipykernel)",
   "language": "python",
   "name": "python3"
  },
  "language_info": {
   "codemirror_mode": {
    "name": "ipython",
    "version": 3
   },
   "file_extension": ".py",
   "mimetype": "text/x-python",
   "name": "python",
   "nbconvert_exporter": "python",
   "pygments_lexer": "ipython3",
   "version": "3.9.12"
  },
  "nbproject": {
   "id": "CfcLn8WBSlKt",
   "parent": [
    "z14KWQKD4bwE",
    "jhvyoIrxoeSz"
   ],
   "pypackage": {
    "nbformat": "5.4.0",
    "nbproject": "0.1.6",
    "pandas": "1.4.2"
   },
   "time_init": "2022-07-18T13:04:49.875497+00:00",
   "version": "draft"
  },
  "vscode": {
   "interpreter": {
    "hash": "2775e555cdc2d728c54aa22130c79afb1fa4da64f22f2fc6dcc2aa346c4e0672"
   }
  }
 },
 "nbformat": 4,
 "nbformat_minor": 5
}
