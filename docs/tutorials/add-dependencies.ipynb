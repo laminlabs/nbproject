{
 "cells": [
  {
   "cell_type": "markdown",
   "id": "4c5d9cf8",
   "metadata": {
    "tags": []
   },
   "source": [
    "# Update the dependency store"
   ]
  },
  {
   "cell_type": "markdown",
   "id": "7814281a-1823-47c4-b302-988e11c50d45",
   "metadata": {},
   "source": [
    "In addition to the automatic dependency tracking, the notebook dependency field can be updated manually using `meta`."
   ]
  },
  {
   "cell_type": "code",
   "execution_count": null,
   "id": "b82e5fd1",
   "metadata": {
    "tags": []
   },
   "outputs": [],
   "source": [
    "from nbproject import header\n",
    "\n",
    "header()"
   ]
  },
  {
   "cell_type": "code",
   "execution_count": null,
   "id": "bc465a84",
   "metadata": {
    "tags": []
   },
   "outputs": [],
   "source": [
    "from nbproject import meta\n",
    "import pandas"
   ]
  },
  {
   "cell_type": "markdown",
   "id": "094108fa",
   "metadata": {},
   "source": [
    "If the dependency store never got written to the file, it's empty:"
   ]
  },
  {
   "cell_type": "code",
   "execution_count": null,
   "id": "bc095c23",
   "metadata": {
    "tags": []
   },
   "outputs": [],
   "source": [
    "meta.store.dependency"
   ]
  },
  {
   "cell_type": "markdown",
   "id": "996a7661",
   "metadata": {},
   "source": [
    "A simple way of updating the store is by calling `update_dependencies`:"
   ]
  },
  {
   "cell_type": "code",
   "execution_count": null,
   "id": "7f0f28c2",
   "metadata": {
    "tags": []
   },
   "outputs": [],
   "source": [
    "meta.store.update_dependencies()"
   ]
  },
  {
   "cell_type": "code",
   "execution_count": null,
   "id": "d5fdcf22-d75c-4ba2-9e90-4f410d0d640e",
   "metadata": {},
   "outputs": [],
   "source": [
    "meta.store.dependency"
   ]
  },
  {
   "cell_type": "markdown",
   "id": "bd7d72a2-8fcd-4414-b957-d233664d0fe1",
   "metadata": {},
   "source": [
    "But now imagine we also want to track some dependencies of the direct dependencies imported in the notebook.\n",
    "\n",
    "We can manually add them like this:"
   ]
  },
  {
   "cell_type": "code",
   "execution_count": null,
   "id": "ff350260",
   "metadata": {
    "tags": []
   },
   "outputs": [],
   "source": [
    "meta.store.add_dependencies([\"numpy\", \"anndata\", \"pandas\"])"
   ]
  },
  {
   "cell_type": "code",
   "execution_count": null,
   "id": "e91ebef3",
   "metadata": {
    "tags": []
   },
   "outputs": [],
   "source": [
    "meta.store.dependency"
   ]
  },
  {
   "cell_type": "markdown",
   "id": "7c0fdfe0",
   "metadata": {},
   "source": [
    "Write the changes to the notebook."
   ]
  },
  {
   "cell_type": "code",
   "execution_count": null,
   "id": "ea6238da",
   "metadata": {
    "tags": []
   },
   "outputs": [],
   "source": [
    "meta.store.write()"
   ]
  }
 ],
 "metadata": {
  "kernelspec": {
   "display_name": "Python 3 (ipykernel)",
   "language": "python",
   "name": "python3"
  },
  "language_info": {
   "codemirror_mode": {
    "name": "ipython",
    "version": 3
   },
   "file_extension": ".py",
   "mimetype": "text/x-python",
   "name": "python",
   "nbconvert_exporter": "python",
   "pygments_lexer": "ipython3",
   "version": "3.9.12"
  },
  "nbproject": {
   "dependency": null,
   "id": "T5ubePlELaNw",
   "time_init": "2022-07-09T15:21:25.765080+00:00",
   "version": "draft"
  },
  "vscode": {
   "interpreter": {
    "hash": "2775e555cdc2d728c54aa22130c79afb1fa4da64f22f2fc6dcc2aa346c4e0672"
   }
  }
 },
 "nbformat": 4,
 "nbformat_minor": 5
}
