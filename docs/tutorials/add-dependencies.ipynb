{
 "cells": [
  {
   "cell_type": "markdown",
   "id": "4c5d9cf8",
   "metadata": {},
   "source": [
    "# Manual addition of dependencies\n",
    "\n",
    "In addition to the automatic dependency tracking, the notebook dependency field can be updated manually using `meta`."
   ]
  },
  {
   "cell_type": "code",
   "execution_count": null,
   "id": "b82e5fd1",
   "metadata": {},
   "outputs": [],
   "source": [
    "from nbproject import header"
   ]
  },
  {
   "cell_type": "code",
   "execution_count": null,
   "id": "bc465a84",
   "metadata": {},
   "outputs": [],
   "source": [
    "from nbproject import meta"
   ]
  },
  {
   "cell_type": "code",
   "execution_count": null,
   "id": "bc095c23",
   "metadata": {},
   "outputs": [],
   "source": [
    "meta.store.dependency"
   ]
  },
  {
   "cell_type": "code",
   "execution_count": null,
   "id": "ff350260",
   "metadata": {},
   "outputs": [],
   "source": [
    "meta.add_dependencies([\"pandas\", \"scanpy\"])"
   ]
  },
  {
   "cell_type": "markdown",
   "id": "9cb78e8a",
   "metadata": {},
   "source": [
    "Use `dict` to pin versions."
   ]
  },
  {
   "cell_type": "code",
   "execution_count": null,
   "id": "fa7349f8",
   "metadata": {},
   "outputs": [],
   "source": [
    "meta.add_dependencies({\"anndata\": \"0.8.0\"})"
   ]
  },
  {
   "cell_type": "code",
   "execution_count": null,
   "id": "e91ebef3",
   "metadata": {},
   "outputs": [],
   "source": [
    "meta.store.dependency"
   ]
  },
  {
   "cell_type": "markdown",
   "id": "7c0fdfe0",
   "metadata": {},
   "source": [
    "Write the changes to the notebook."
   ]
  },
  {
   "cell_type": "code",
   "execution_count": null,
   "id": "ea6238da",
   "metadata": {},
   "outputs": [],
   "source": [
    "meta.write()"
   ]
  }
 ],
 "metadata": {
  "kernelspec": {
   "display_name": "Python 3 (ipykernel)",
   "language": "python",
   "name": "python3"
  },
  "language_info": {
   "codemirror_mode": {
    "name": "ipython",
    "version": 3
   },
   "file_extension": ".py",
   "mimetype": "text/x-python",
   "name": "python",
   "nbconvert_exporter": "python",
   "pygments_lexer": "ipython3",
   "version": "3.9.12"
  },
  "nbproject": {
   "dependency": null,
   "id": "T5ubePlELaNw",
   "time_init": "2022-07-09T15:21:25.765080+00:00",
   "version": "draft"
  }
 },
 "nbformat": 4,
 "nbformat_minor": 5
}
