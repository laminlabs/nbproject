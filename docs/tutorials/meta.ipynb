{
 "cells": [
  {
   "cell_type": "markdown",
   "id": "1b4d3825-6110-440b-a9c0-99cbb56f6ab6",
   "metadata": {},
   "source": [
    "# The metadata API"
   ]
  },
  {
   "cell_type": "markdown",
   "id": "cba70490-5b5d-4e11-88a6-5bb338d32810",
   "metadata": {},
   "source": [
    "In previous tutorials, we learned how to display metadata to provide humans with context (e.g., {doc}`basic-metadata`).\n",
    "\n",
    "If we want to build functionality on top of notebook metadata, we can access metadata through the API."
   ]
  },
  {
   "cell_type": "code",
   "execution_count": null,
   "id": "a920ea06-3b40-4900-a83e-9aaf8632c098",
   "metadata": {},
   "outputs": [],
   "source": [
    "from nbproject import header, meta\n",
    "\n",
    "header()"
   ]
  },
  {
   "cell_type": "markdown",
   "id": "f38546af-5976-482e-97be-ab4cc025b420",
   "metadata": {},
   "source": [
    "For instance, we can retrieve the stored notebook ID as follows."
   ]
  },
  {
   "cell_type": "code",
   "execution_count": null,
   "id": "c57e6a11-7d4f-4e39-9972-d6c9e4bd3412",
   "metadata": {},
   "outputs": [],
   "source": [
    "assert not meta.live.consecutive_cells"
   ]
  },
  {
   "cell_type": "code",
   "execution_count": null,
   "id": "2fa7f01c-5187-43cc-aaab-67ebebf8c043",
   "metadata": {},
   "outputs": [],
   "source": [
    "meta.store.id"
   ]
  },
  {
   "cell_type": "code",
   "execution_count": null,
   "id": "2361d6ac-7468-4bb3-9491-e7724f58c653",
   "metadata": {
    "tags": [
     "hide-cell"
    ]
   },
   "outputs": [],
   "source": [
    "assert meta.store.id == \"k6Bj4FXM9oPm\"\n",
    "assert hasattr(meta.store, \"time_init\")"
   ]
  },
  {
   "cell_type": "code",
   "execution_count": null,
   "id": "774584db-2ecc-40ba-9445-05fad86018cd",
   "metadata": {},
   "outputs": [],
   "source": [
    "meta.live.title"
   ]
  },
  {
   "cell_type": "code",
   "execution_count": null,
   "id": "46074a8f-e2c3-4420-a5a9-131c4afbecbc",
   "metadata": {},
   "outputs": [],
   "source": [
    "# assert meta.live.consecutive_cells  # it'd be nice to test this here, but that would require flushing the ci buffer before this cell"
   ]
  }
 ],
 "metadata": {
  "kernelspec": {
   "display_name": "Python 3.9.12 ('base1')",
   "language": "python",
   "name": "python3"
  },
  "language_info": {
   "codemirror_mode": {
    "name": "ipython",
    "version": 3
   },
   "file_extension": ".py",
   "mimetype": "text/x-python",
   "name": "python",
   "nbconvert_exporter": "python",
   "pygments_lexer": "ipython3",
   "version": "3.9.12"
  },
  "nbproject": {
   "dependency": {
    "nbproject": "0.1.0"
   },
   "id": "k6Bj4FXM9oPm",
   "time_init": "2022-06-29T14:38:42.171771+00:00",
   "version": "draft"
  },
  "vscode": {
   "interpreter": {
    "hash": "2775e555cdc2d728c54aa22130c79afb1fa4da64f22f2fc6dcc2aa346c4e0672"
   }
  }
 },
 "nbformat": 4,
 "nbformat_minor": 5
}
