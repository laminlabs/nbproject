{
 "cells": [
  {
   "cell_type": "markdown",
   "id": "e39f24eb-802a-4fa5-b9e1-141cf1ebab72",
   "metadata": {},
   "source": [
    "# Automatic dependency tracking"
   ]
  },
  {
   "cell_type": "markdown",
   "id": "77cea1ab-52d8-496c-9874-2b0fc5a3fdcc",
   "metadata": {},
   "source": [
    "Here, we had already drafted a notebook **without** a line `from nbproject import header`.\n",
    "\n",
    "Once we add the line `from nbproject import header`, two things happen:\n",
    "\n",
    "- nbproject is initialized\n",
    "- dependencies are inferred and written to the metadata store\n",
    "\n",
    "The notebook is in \"draft mode\" (`version = \"draft\"`).\n",
    "\n",
    "Depending on when & where the notebook was initialized, the live dependencies (inferred from the environment) might or might not equal the stored dependencies.\n",
    "\n",
    "As long as the notebook is in draft mode, we'll not expect it to necessarily reproduce, and we'll not pay much attention to this difference.\n",
    "\n",
    "But what if we share our notebook with someone else or an external system, like a data platform? We'd like to ensure that the other party can reproduce the result! And we'd like to ensure that someone who queries data from the data platform and traces it back to a notebook can also reproduce that piece of data.\n",
    "\n",
    "Hence, we introduce a publishing step. Read on."
   ]
  },
  {
   "cell_type": "code",
   "execution_count": null,
   "id": "4bdcc2dd-3bf4-43e3-9305-10722283b415",
   "metadata": {},
   "outputs": [],
   "source": [
    "from nbproject import header\n",
    "\n",
    "header()"
   ]
  },
  {
   "cell_type": "code",
   "execution_count": null,
   "id": "5612a45d-6250-40ce-a4ae-d2b24db515ed",
   "metadata": {},
   "outputs": [],
   "source": [
    "import pandas as pd"
   ]
  },
  {
   "cell_type": "code",
   "execution_count": null,
   "id": "8c76e678-4226-41de-9bc5-28a75a0cf7cb",
   "metadata": {},
   "outputs": [],
   "source": [
    "df = pd.DataFrame({\"a\": [1, 2, 3], \"b\": [2, 3, 4]})"
   ]
  },
  {
   "cell_type": "code",
   "execution_count": null,
   "id": "80bc64bb-e7bf-41b7-a2fa-9ccdbf11fa91",
   "metadata": {},
   "outputs": [],
   "source": [
    "df"
   ]
  }
 ],
 "metadata": {
  "kernelspec": {
   "display_name": "Python 3 (ipykernel)",
   "language": "python",
   "name": "python3"
  },
  "language_info": {
   "codemirror_mode": {
    "name": "ipython",
    "version": 3
   },
   "file_extension": ".py",
   "mimetype": "text/x-python",
   "name": "python",
   "nbconvert_exporter": "python",
   "pygments_lexer": "ipython3",
   "version": "3.9.7"
  },
  "nbproject": {
   "dependency": {
    "nbproject": "0.1.0",
    "pandas": "1.4.2"
   },
   "id": "r4Dkcgt2HIfh",
   "time_init": "2022-06-29T10:48:20.068989+00:00",
   "version": "draft"
  }
 },
 "nbformat": 4,
 "nbformat_minor": 5
}
