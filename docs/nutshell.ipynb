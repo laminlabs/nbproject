{
 "cells": [
  {
   "cell_type": "markdown",
   "metadata": {},
   "source": [
    "# nbproject in a nutshell"
   ]
  },
  {
   "cell_type": "markdown",
   "metadata": {},
   "source": [
    "nbproject has two central functions:\n",
    "\n",
    "1. {func}`~nbproject.header` provides anyone inspecting the notebook with relevant context - also _you_, the creator.\n",
    "2. {func}`~nbproject.publish` prepares a notebook for sharing it with someone else.[^yourself]\n",
    "\n",
    "[^yourself]: The receiver of a notebook might be yourself, 6 months from now, when you try to reproduce what you did today."
   ]
  },
  {
   "cell_type": "code",
   "execution_count": null,
   "metadata": {},
   "outputs": [],
   "source": [
    "from nbproject import header, publish\n",
    "\n",
    "header()  # initialize ID, time stamps, versioning & dependency tracking, display metadata as header"
   ]
  },
  {
   "cell_type": "code",
   "execution_count": null,
   "metadata": {},
   "outputs": [],
   "source": [
    "# Now, do fancy stuff in this notebook:\n",
    "\n",
    "import pandas\n",
    "\n",
    "# Often, you transform data to generate insight.\n",
    "# If you're really just prototyping software, nbproject notebooks can serve as decision & design docs.\n",
    "#\n",
    "# code cells:\n",
    "#    data = load_data(data_storage)\n",
    "#    useful_representation = model(data)\n",
    "#    plot_things(useful_representation)\n",
    "#\n",
    "# markdown cells:\n",
    "#    write down a conclusion"
   ]
  },
  {
   "cell_type": "markdown",
   "metadata": {},
   "source": [
    "After iterating for a while, you're happy with the present version of your problem solution! 🎉\n",
    "\n",
    "You'd now like to share to see what someone else thinks about it. {func}`~nbproject.publish` ensures the receiver has relevant context and can trust the result:"
   ]
  },
  {
   "cell_type": "code",
   "execution_count": null,
   "metadata": {},
   "outputs": [],
   "source": [
    "publish(i_confirm_i_saved=True)  # bump version, check integrity, write dependencies"
   ]
  },
  {
   "cell_type": "markdown",
   "metadata": {},
   "source": [
    "If you have another 5 min, please continue with tutorial #1, which is a detailed walk-through of the typical nbproject workflow covering typical notebook context:\n",
    "\n",
    "1. The idea behind this notebook: it's captured in the title, the notebook ID, and arbitrary metadata you added (project IDs, ELNs, etc.).\n",
    "2. The version of the notebook: Is it still a draft, version 1, version 2, version 2.1?\n",
    "3. What were the key dependencies for achieving the result?\n",
    "4. Can the results of the notebook be trusted because it was run consecutively?\n",
    "5. How long did you work on this notebook: the time stamp difference.\n",
    "\n",
    "```{note}\n",
    "\n",
    "If you're a developer and want to build on top of nbproject, we have two more APIs:\n",
    "\n",
    "- {class}`~nbproject.Meta` Access metadata programmatically.\n",
    "- {mod}`~nbproject.dev` Developer API.\n",
    "```"
   ]
  }
 ],
 "metadata": {
  "kernelspec": {
   "display_name": "Python 3.9.12 ('base1')",
   "language": "python",
   "name": "python3"
  },
  "language_info": {
   "codemirror_mode": {
    "name": "ipython",
    "version": 3
   },
   "file_extension": ".py",
   "mimetype": "text/x-python",
   "name": "python",
   "nbconvert_exporter": "python",
   "pygments_lexer": "ipython3",
   "version": "3.9.12"
  },
  "nbproject": {
   "dependency": {
    "nbproject": "0.0.9"
   },
   "id": "jhvyoIrxoeSz",
   "time_init": "2022-07-10T20:15:26.365855+00:00",
   "version": "draft"
  },
  "vscode": {
   "interpreter": {
    "hash": "2775e555cdc2d728c54aa22130c79afb1fa4da64f22f2fc6dcc2aa346c4e0672"
   }
  }
 },
 "nbformat": 4,
 "nbformat_minor": 4
}
