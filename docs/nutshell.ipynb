{
 "cells": [
  {
   "cell_type": "markdown",
   "metadata": {},
   "source": [
    "# nbproject in a nutshell"
   ]
  },
  {
   "cell_type": "markdown",
   "metadata": {},
   "source": [
    "nbproject has two central functions:\n",
    "\n",
    "1. {func}`~nbproject.header` provides the notebook viewer with relevant context.\n",
    "2. {func}`~nbproject.publish` prepares a notebook for sharing it with someone else.[^yourself]\n",
    "\n",
    "[^yourself]: It could be yourself, 6 months from now, when you try to reproduce what you do today."
   ]
  },
  {
   "cell_type": "code",
   "execution_count": null,
   "metadata": {},
   "outputs": [],
   "source": [
    "from nbproject import header, publish\n",
    "\n",
    "header()  # Initializes ID, time stamps, versioning & dependency tracking, display metadata as header."
   ]
  },
  {
   "cell_type": "code",
   "execution_count": null,
   "metadata": {},
   "outputs": [],
   "source": [
    "import pandas\n",
    "\n",
    "# data science"
   ]
  },
  {
   "cell_type": "markdown",
   "metadata": {},
   "source": [
    "After working on your draft for a while, you're happy with the present version of your problem solution! 🎉\n",
    "\n",
    "Before you share it with someone else, call {func}`~nbproject.publish`, to ensure the receiver can trust & build on the result:"
   ]
  },
  {
   "cell_type": "code",
   "execution_count": null,
   "metadata": {},
   "outputs": [],
   "source": [
    "publish()  # Bumps version, checks consecutiveness & title, writes dependencies."
   ]
  },
  {
   "cell_type": "markdown",
   "metadata": {},
   "source": [
    "Tutorial #1 walks through the typical draft to publishing workflow covering typical notebook context:\n",
    "\n",
    "1. Context: title, notebook ID, time stamps, and arbitrary metadata you added (project IDs, ELNs, etc.).\n",
    "2. Version: Is it still a draft, version 1, version 2, version 2.1?\n",
    "3. What were the key dependencies for achieving the result?\n",
    "4. Can the results of the notebook be trusted because it was run consecutively?\n",
    "\n",
    "```{note}\n",
    "\n",
    "If you're a developer and want to build on top of nbproject, we have two more APIs:\n",
    "\n",
    "- {class}`~nbproject.Meta` Access metadata programmatically.\n",
    "- {mod}`~nbproject.dev` Developer API.\n",
    "```"
   ]
  }
 ],
 "metadata": {
  "kernelspec": {
   "display_name": "Python 3 (ipykernel)",
   "language": "python",
   "name": "python3"
  },
  "language_info": {
   "codemirror_mode": {
    "name": "ipython",
    "version": 3
   },
   "file_extension": ".py",
   "mimetype": "text/x-python",
   "name": "python",
   "nbconvert_exporter": "python",
   "pygments_lexer": "ipython3",
   "version": "3.9.12"
  },
  "nbproject": {
   "dependency": {
    "nbproject": "0.1.6",
    "pandas": "1.4.2"
   },
   "id": "jhvyoIrxoeSz",
   "time_init": "2022-07-10T20:15:26.365855+00:00",
   "version": "1"
  },
  "vscode": {
   "interpreter": {
    "hash": "2775e555cdc2d728c54aa22130c79afb1fa4da64f22f2fc6dcc2aa346c4e0672"
   }
  }
 },
 "nbformat": 4,
 "nbformat_minor": 4
}
