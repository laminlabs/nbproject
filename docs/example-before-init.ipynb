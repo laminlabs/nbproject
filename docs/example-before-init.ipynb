{
 "cells": [
  {
   "cell_type": "markdown",
   "metadata": {},
   "source": [
    "# Example before init"
   ]
  },
  {
   "cell_type": "markdown",
   "metadata": {},
   "source": [
    "This shows the user dialogue encountered when importing `nbproject` in a notebook that has no metadata information."
   ]
  },
  {
   "cell_type": "code",
   "execution_count": 1,
   "metadata": {},
   "outputs": [
    {
     "name": "stdout",
     "output_type": "stream",
     "text": [
      "to initialize nbproject: hit save, load notebook from disk ('revert') & restart\n"
     ]
    }
   ],
   "source": [
    "from nbproject import header"
   ]
  }
 ],
 "metadata": {
  "interpreter": {
   "hash": "40d3a090f54c6569ab1632332b64b2c03c39dcf918b08424e98f38b5ae0af88f"
  },
  "kernelspec": {
   "display_name": "Python 3 (ipykernel)",
   "language": "python",
   "name": "python3"
  },
  "language_info": {
   "codemirror_mode": {
    "name": "ipython",
    "version": 3
   },
   "file_extension": ".py",
   "mimetype": "text/x-python",
   "name": "python",
   "nbconvert_exporter": "python",
   "pygments_lexer": "ipython3",
   "version": "3.9.7"
  },
  "nbproject_time_edit": "2022-04-06T17:48:19.806011+00:00",
  "nbproject_time_init": "2022-04-06T17:48:19.806011+00:00",
  "nbproject_uuid": "b6fff3c6d03342d5bd6ac6b505f7fd0b"
 },
 "nbformat": 4,
 "nbformat_minor": 4
}
